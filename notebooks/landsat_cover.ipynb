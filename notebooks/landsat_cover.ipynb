{
 "cells": [
  {
   "cell_type": "markdown",
   "id": "f4fd1fae",
   "metadata": {},
   "source": [
    "# Case Studies"
   ]
  },
  {
   "cell_type": "code",
   "execution_count": 1,
   "id": "2c9b35dc",
   "metadata": {},
   "outputs": [],
   "source": [
    "from conflict_monitoring_ntl.viz import plot_map_with_shape\n",
    "from conflict_monitoring_ntl.satellites import Landsat\n",
    "from conflict_monitoring_ntl.case_studies import (\n",
    "    CaseStudiesRural, \n",
    "    CaseStudiesPeriUrban,\n",
    "    CaseStudiesUrban\n",
    ")"
   ]
  },
  {
   "cell_type": "code",
   "execution_count": null,
   "id": "2e235e8f",
   "metadata": {},
   "outputs": [],
   "source": [
    "landsat = Landsat()"
   ]
  },
  {
   "cell_type": "markdown",
   "id": "521c1caf",
   "metadata": {},
   "source": [
    "## Rural"
   ]
  },
  {
   "cell_type": "markdown",
   "id": "db486b05",
   "metadata": {},
   "source": [
    "### Sudan - Nyala"
   ]
  },
  {
   "cell_type": "code",
   "execution_count": 3,
   "id": "7a1da4ac",
   "metadata": {},
   "outputs": [
    {
     "name": "stderr",
     "output_type": "stream",
     "text": [
      "2025-10-07 21:41:11,185 - conflict_monitoring_ntl.logger - WARNING - [Landsat] No images for given region and date range.\n"
     ]
    }
   ],
   "source": [
    "nyala = CaseStudiesRural.NYALA\n",
    "nyala_df = landsat.raster(nyala.gdf, nyala.get_date_range(months=6))"
   ]
  },
  {
   "cell_type": "markdown",
   "id": "36d609e7",
   "metadata": {},
   "source": [
    "### South Sudan - Bentiu"
   ]
  },
  {
   "cell_type": "code",
   "execution_count": 4,
   "id": "7a8807a4",
   "metadata": {},
   "outputs": [
    {
     "name": "stderr",
     "output_type": "stream",
     "text": [
      "2025-10-07 21:42:28,797 - conflict_monitoring_ntl.logger - WARNING - [Landsat] No images for given region and date range.\n"
     ]
    }
   ],
   "source": [
    "bentiu = CaseStudiesRural.BENTIU\n",
    "bentiu_df = landsat.raster(bentiu.gdf, bentiu.get_date_range(months=6))"
   ]
  },
  {
   "cell_type": "markdown",
   "id": "12ca409d",
   "metadata": {
    "notebookRunGroups": {
     "groupValue": "1"
    }
   },
   "source": [
    "### Nigeria - Maiduguri"
   ]
  },
  {
   "cell_type": "code",
   "execution_count": 5,
   "id": "f63c1da8",
   "metadata": {},
   "outputs": [
    {
     "name": "stderr",
     "output_type": "stream",
     "text": [
      "2025-10-07 21:43:46,414 - conflict_monitoring_ntl.logger - WARNING - [Landsat] No images for given region and date range.\n"
     ]
    }
   ],
   "source": [
    "maiduguri = CaseStudiesRural.MAIDUGURI\n",
    "maiduguri_df = landsat.raster(maiduguri.gdf, maiduguri.get_date_range(months=6))"
   ]
  },
  {
   "cell_type": "markdown",
   "id": "75406530",
   "metadata": {},
   "source": [
    "### Myanmar - Sittwe area"
   ]
  },
  {
   "cell_type": "code",
   "execution_count": 6,
   "id": "41a53a76",
   "metadata": {},
   "outputs": [
    {
     "name": "stderr",
     "output_type": "stream",
     "text": [
      "2025-10-07 21:45:04,139 - conflict_monitoring_ntl.logger - WARNING - [Landsat] No images for given region and date range.\n"
     ]
    }
   ],
   "source": [
    "sittwe = CaseStudiesRural.SITTWE\n",
    "sittwe_df = landsat.raster(sittwe.gdf, sittwe.get_date_range(months=6))"
   ]
  },
  {
   "cell_type": "markdown",
   "id": "98111fd6",
   "metadata": {},
   "source": [
    "### Ethiopia - Mekele"
   ]
  },
  {
   "cell_type": "code",
   "execution_count": 7,
   "id": "ecc9c8ce",
   "metadata": {},
   "outputs": [
    {
     "name": "stderr",
     "output_type": "stream",
     "text": [
      "2025-10-07 21:46:21,910 - conflict_monitoring_ntl.logger - WARNING - [Landsat] No images for given region and date range.\n"
     ]
    }
   ],
   "source": [
    "mekele = CaseStudiesRural.MEKELE\n",
    "mekele_df = landsat.raster(mekele.gdf, mekele.get_date_range(months=6))"
   ]
  },
  {
   "cell_type": "markdown",
   "id": "ad5f8456",
   "metadata": {},
   "source": [
    "### Yemen - Al Hudaydah"
   ]
  },
  {
   "cell_type": "code",
   "execution_count": 8,
   "id": "edd3ca93",
   "metadata": {},
   "outputs": [
    {
     "name": "stderr",
     "output_type": "stream",
     "text": [
      "2025-10-07 21:47:40,057 - conflict_monitoring_ntl.logger - WARNING - [Landsat] No images for given region and date range.\n"
     ]
    }
   ],
   "source": [
    "al_hudaydah = CaseStudiesRural.AL_HUDAYDAH\n",
    "al_hudaydah_df = landsat.raster(al_hudaydah.gdf, al_hudaydah.get_date_range(months=6))"
   ]
  },
  {
   "cell_type": "markdown",
   "id": "c5bc8c7c",
   "metadata": {},
   "source": [
    "### Central African Republic - Kaga Bandoro"
   ]
  },
  {
   "cell_type": "code",
   "execution_count": 9,
   "id": "86b51870",
   "metadata": {},
   "outputs": [
    {
     "name": "stderr",
     "output_type": "stream",
     "text": [
      "2025-10-07 21:48:57,610 - conflict_monitoring_ntl.logger - WARNING - [Landsat] No images for given region and date range.\n"
     ]
    }
   ],
   "source": [
    "kaga_bandoro = CaseStudiesRural.KAGA_BANDORO\n",
    "kaga_bandoro_df = landsat.raster(kaga_bandoro.gdf, kaga_bandoro.get_date_range(months=6))"
   ]
  },
  {
   "cell_type": "markdown",
   "id": "4e6b8145",
   "metadata": {},
   "source": [
    "### Mali - Mopti"
   ]
  },
  {
   "cell_type": "code",
   "execution_count": 10,
   "id": "f3b191c0",
   "metadata": {},
   "outputs": [
    {
     "name": "stderr",
     "output_type": "stream",
     "text": [
      "2025-10-07 21:50:15,235 - conflict_monitoring_ntl.logger - WARNING - [Landsat] No images for given region and date range.\n"
     ]
    }
   ],
   "source": [
    "mopti = CaseStudiesRural.MOPTI\n",
    "mopti_df = landsat.raster(mopti.gdf, mopti.get_date_range(months=6))"
   ]
  },
  {
   "cell_type": "markdown",
   "id": "56a31946",
   "metadata": {},
   "source": [
    "### Syria - Deir ez-Zor"
   ]
  },
  {
   "cell_type": "code",
   "execution_count": 11,
   "id": "327219e9",
   "metadata": {},
   "outputs": [
    {
     "name": "stderr",
     "output_type": "stream",
     "text": [
      "2025-10-07 21:51:34,226 - conflict_monitoring_ntl.logger - WARNING - [Landsat] No images for given region and date range.\n"
     ]
    }
   ],
   "source": [
    "deir_ez_zor = CaseStudiesRural.DEIR_EZ_ZOR\n",
    "deir_ez_zor_df = landsat.raster(deir_ez_zor.gdf, deir_ez_zor.get_date_range(months=6))"
   ]
  },
  {
   "cell_type": "markdown",
   "id": "dc86f207",
   "metadata": {},
   "source": [
    "### Democratic Republic of the Congo - Katana"
   ]
  },
  {
   "cell_type": "code",
   "execution_count": 12,
   "id": "ccd82e6b",
   "metadata": {},
   "outputs": [
    {
     "name": "stderr",
     "output_type": "stream",
     "text": [
      "2025-10-07 21:52:51,489 - conflict_monitoring_ntl.logger - WARNING - [Landsat] No images for given region and date range.\n"
     ]
    }
   ],
   "source": [
    "katana = CaseStudiesRural.KATANA\n",
    "katana_df = landsat.raster(katana.gdf, katana.get_date_range(months=6))"
   ]
  },
  {
   "cell_type": "markdown",
   "id": "87a02d16",
   "metadata": {},
   "source": [
    "## Peri-Urban"
   ]
  },
  {
   "cell_type": "markdown",
   "id": "de81026a",
   "metadata": {},
   "source": [
    "### Morocco - Oujda"
   ]
  },
  {
   "cell_type": "code",
   "execution_count": 13,
   "id": "1fd99f72",
   "metadata": {},
   "outputs": [
    {
     "name": "stderr",
     "output_type": "stream",
     "text": [
      "2025-10-07 21:54:11,712 - conflict_monitoring_ntl.logger - WARNING - [Landsat] No images for given region and date range.\n"
     ]
    }
   ],
   "source": [
    "oudja = CaseStudiesPeriUrban.OUJDA\n",
    "oudja_df = landsat.raster(oudja.gdf, oudja.get_date_range(months=6))"
   ]
  },
  {
   "cell_type": "markdown",
   "id": "15ee9fe9",
   "metadata": {},
   "source": [
    "### India - Raipur"
   ]
  },
  {
   "cell_type": "code",
   "execution_count": 14,
   "id": "2826c936",
   "metadata": {},
   "outputs": [
    {
     "name": "stderr",
     "output_type": "stream",
     "text": [
      "2025-10-07 21:55:29,013 - conflict_monitoring_ntl.logger - WARNING - [Landsat] No images for given region and date range.\n"
     ]
    }
   ],
   "source": [
    "raipur = CaseStudiesPeriUrban.RAIPUR\n",
    "raipur_df = landsat.raster(raipur.gdf, raipur.get_date_range(months=6))"
   ]
  },
  {
   "cell_type": "markdown",
   "id": "831480ef",
   "metadata": {},
   "source": [
    "### Bangladesh - Rangpur"
   ]
  },
  {
   "cell_type": "code",
   "execution_count": 15,
   "id": "e4428d99",
   "metadata": {},
   "outputs": [
    {
     "name": "stderr",
     "output_type": "stream",
     "text": [
      "2025-10-07 21:56:49,763 - conflict_monitoring_ntl.logger - WARNING - [Landsat] No images for given region and date range.\n"
     ]
    }
   ],
   "source": [
    "rangpur = CaseStudiesPeriUrban.RANGPUR\n",
    "rangpur_df = landsat.raster(rangpur.gdf, rangpur.get_date_range(months=6))"
   ]
  },
  {
   "cell_type": "markdown",
   "id": "8643cf88",
   "metadata": {},
   "source": [
    "### Sri Lanka - Kuranegala"
   ]
  },
  {
   "cell_type": "code",
   "execution_count": 16,
   "id": "668c76df",
   "metadata": {},
   "outputs": [
    {
     "name": "stderr",
     "output_type": "stream",
     "text": [
      "2025-10-07 21:58:06,985 - conflict_monitoring_ntl.logger - WARNING - [Landsat] No images for given region and date range.\n"
     ]
    }
   ],
   "source": [
    "kuranegala = CaseStudiesPeriUrban.KURANEGALA\n",
    "kuranegala_df = landsat.raster(kuranegala.gdf, kuranegala.get_date_range(months=6))"
   ]
  },
  {
   "cell_type": "markdown",
   "id": "e589b48f",
   "metadata": {},
   "source": [
    "### Vietnam - Can Tho"
   ]
  },
  {
   "cell_type": "code",
   "execution_count": 17,
   "id": "3e79bc64",
   "metadata": {},
   "outputs": [
    {
     "name": "stderr",
     "output_type": "stream",
     "text": [
      "2025-10-07 21:59:23,675 - conflict_monitoring_ntl.logger - WARNING - [Landsat] No images for given region and date range.\n"
     ]
    }
   ],
   "source": [
    "can_tho = CaseStudiesPeriUrban.CAN_THO\n",
    "can_tho_df = landsat.raster(can_tho.gdf, can_tho.get_date_range(months=6))"
   ]
  },
  {
   "cell_type": "markdown",
   "id": "5bc34ecb",
   "metadata": {},
   "source": [
    "### Philippines - Legazpi"
   ]
  },
  {
   "cell_type": "code",
   "execution_count": null,
   "id": "2eae354d",
   "metadata": {},
   "outputs": [],
   "source": [
    "legazpi = CaseStudiesPeriUrban.LEGAZPI\n",
    "legazpi_df = landsat.raster(legazpi.gdf, legazpi.get_date_range(months=6))"
   ]
  },
  {
   "cell_type": "markdown",
   "id": "cb5e183d",
   "metadata": {},
   "source": [
    "### Uzbekistan - Qarshi"
   ]
  },
  {
   "cell_type": "code",
   "execution_count": null,
   "id": "83d627ee",
   "metadata": {},
   "outputs": [
    {
     "name": "stdout",
     "output_type": "stream",
     "text": [
      "Case Study: Qarshi (peri-urban)\n",
      "  Country     : Uzbekistan\n",
      "  City        : Qarshi\n",
      "  Date        : 2024-03-14\n"
     ]
    }
   ],
   "source": [
    "qarshi = CaseStudiesPeriUrban.QARSHI\n",
    "qarshi_df = landsat.raster(qarshi.gdf, qarshi.get_date_range(months=6))"
   ]
  },
  {
   "cell_type": "markdown",
   "id": "1aced1e4",
   "metadata": {},
   "source": [
    "### Ghana - Kumasi"
   ]
  },
  {
   "cell_type": "code",
   "execution_count": null,
   "id": "f6211d31",
   "metadata": {},
   "outputs": [
    {
     "name": "stdout",
     "output_type": "stream",
     "text": [
      "Case Study: Kumasi (peri-urban)\n",
      "  Country     : Ghana\n",
      "  City        : Kumasi\n",
      "  Date        : 2024-11-30\n"
     ]
    }
   ],
   "source": [
    "kumasi = CaseStudiesPeriUrban.KUMASI\n",
    "kumasi_df = landsat.raster(kumasi.gdf, kumasi.get_date_range(months=6))"
   ]
  },
  {
   "cell_type": "markdown",
   "id": "2f6f5809",
   "metadata": {},
   "source": [
    "### Colombia - Villavicencio"
   ]
  },
  {
   "cell_type": "code",
   "execution_count": null,
   "id": "8523b6ed",
   "metadata": {},
   "outputs": [
    {
     "name": "stdout",
     "output_type": "stream",
     "text": [
      "Case Study: Villavicencio (peri-urban)\n",
      "  Country     : Colombia\n",
      "  City        : Villavicencio\n",
      "  Date        : 2022-12-28\n"
     ]
    }
   ],
   "source": [
    "villavicencio = CaseStudiesPeriUrban.VILLAVICENCIO\n",
    "villavicencio_df = landsat.raster(villavicencio.gdf, villavicencio.get_date_range(months=6))"
   ]
  },
  {
   "cell_type": "markdown",
   "id": "b652fa38",
   "metadata": {},
   "source": [
    "### Kenya - Nakuru"
   ]
  },
  {
   "cell_type": "code",
   "execution_count": null,
   "id": "323dc47c",
   "metadata": {},
   "outputs": [
    {
     "name": "stdout",
     "output_type": "stream",
     "text": [
      "Case Study: Nakuru (peri-urban)\n",
      "  Country     : Kenya\n",
      "  City        : Nakuru\n",
      "  Date        : 2022-02-27\n"
     ]
    }
   ],
   "source": [
    "nakuru = CaseStudiesPeriUrban.NAKURU\n",
    "nakuru_df = landsat.raster(nakuru.gdf, nakuru.get_date_range(months=6))"
   ]
  },
  {
   "cell_type": "markdown",
   "id": "f58048d0",
   "metadata": {},
   "source": [
    "## Urban"
   ]
  },
  {
   "cell_type": "markdown",
   "id": "b47de54f",
   "metadata": {},
   "source": [
    "### Nigeria - Lagos"
   ]
  },
  {
   "cell_type": "code",
   "execution_count": null,
   "id": "8322604b",
   "metadata": {},
   "outputs": [
    {
     "name": "stdout",
     "output_type": "stream",
     "text": [
      "Case Study: Lagos (urban)\n",
      "  Country     : Nigeria\n",
      "  City        : Lagos\n",
      "  Date        : 2024-12-23\n"
     ]
    }
   ],
   "source": [
    "lagos = CaseStudiesUrban.LAGOS\n",
    "lagos_df = landsat.raster(lagos.gdf, lagos.get_date_range(months=6))"
   ]
  },
  {
   "cell_type": "markdown",
   "id": "1a007c20",
   "metadata": {},
   "source": [
    "### India - New Delhi"
   ]
  },
  {
   "cell_type": "code",
   "execution_count": null,
   "id": "c7ed6dd5",
   "metadata": {},
   "outputs": [
    {
     "name": "stdout",
     "output_type": "stream",
     "text": [
      "Case Study: New Delhi (urban)\n",
      "  Country     : India\n",
      "  City        : New Delhi\n",
      "  Date        : 2022-02-27\n"
     ]
    }
   ],
   "source": [
    "new_delhi = CaseStudiesUrban.NEW_DELHI\n",
    "new_delhi_df = landsat.raster(new_delhi.gdf, new_delhi.get_date_range(months=6))"
   ]
  },
  {
   "cell_type": "markdown",
   "id": "cc1842e5",
   "metadata": {},
   "source": [
    "### China - Shanghai"
   ]
  },
  {
   "cell_type": "code",
   "execution_count": null,
   "id": "3dd91504",
   "metadata": {},
   "outputs": [
    {
     "name": "stdout",
     "output_type": "stream",
     "text": [
      "Case Study: Shanghai (urban)\n",
      "  Country     : China\n",
      "  City        : Shanghai\n",
      "  Date        : 2021-11-10\n"
     ]
    }
   ],
   "source": [
    "shanghai = CaseStudiesUrban.SHANGHAI\n",
    "shanghai_df = landsat.raster(shanghai.gdf, shanghai.get_date_range(months=6))"
   ]
  },
  {
   "cell_type": "markdown",
   "id": "028528ec",
   "metadata": {},
   "source": [
    "### Egypt - Cairo"
   ]
  },
  {
   "cell_type": "code",
   "execution_count": null,
   "id": "2d031742",
   "metadata": {},
   "outputs": [
    {
     "name": "stdout",
     "output_type": "stream",
     "text": [
      "Case Study: Cairo (urban)\n",
      "  Country     : Egypt\n",
      "  City        : Cairo\n",
      "  Date        : 2022-02-06\n"
     ]
    }
   ],
   "source": [
    "cairo = CaseStudiesUrban.CAIRO\n",
    "cairo_df = landsat.raster(cairo.gdf, cairo.get_date_range(months=6))"
   ]
  },
  {
   "cell_type": "markdown",
   "id": "8b700326",
   "metadata": {},
   "source": [
    "### Switzerland - Zurich"
   ]
  },
  {
   "cell_type": "code",
   "execution_count": null,
   "id": "db8a3965",
   "metadata": {},
   "outputs": [
    {
     "name": "stdout",
     "output_type": "stream",
     "text": [
      "Case Study: Zurich (urban)\n",
      "  Country     : Switzerland\n",
      "  City        : Zurich\n",
      "  Date        : 2022-03-22\n"
     ]
    }
   ],
   "source": [
    "zurich = CaseStudiesUrban.ZURICH\n",
    "zurich_df = landsat.raster(zurich.gdf, zurich.get_date_range(months=6))"
   ]
  },
  {
   "cell_type": "markdown",
   "id": "83a7b1d2",
   "metadata": {},
   "source": [
    "### Mexico - Mexico City"
   ]
  },
  {
   "cell_type": "code",
   "execution_count": null,
   "id": "5148cc3f",
   "metadata": {},
   "outputs": [
    {
     "name": "stdout",
     "output_type": "stream",
     "text": [
      "Case Study: Mexico City (urban)\n",
      "  Country     : Mexico\n",
      "  City        : Mexico City\n",
      "  Date        : 2022-05-16\n"
     ]
    }
   ],
   "source": [
    "mexico_city = CaseStudiesUrban.MEXICO_CITY\n",
    "mexico_city_df = landsat.raster(mexico_city.gdf, mexico_city.get_date_range(months=6))"
   ]
  },
  {
   "cell_type": "markdown",
   "id": "2062bfc2",
   "metadata": {},
   "source": [
    "### Japan - Tokyo"
   ]
  },
  {
   "cell_type": "code",
   "execution_count": null,
   "id": "70eea6bc",
   "metadata": {},
   "outputs": [
    {
     "name": "stdout",
     "output_type": "stream",
     "text": [
      "Case Study: Tokyo (urban)\n",
      "  Country     : Japan\n",
      "  City        : Tokyo\n",
      "  Date        : 2022-01-08\n"
     ]
    }
   ],
   "source": [
    "tokyo = CaseStudiesUrban.TOKYO\n",
    "tokyo_df = landsat.raster(tokyo.gdf, tokyo.get_date_range(months=6))"
   ]
  },
  {
   "cell_type": "markdown",
   "id": "5746271e",
   "metadata": {},
   "source": [
    "### Pakistan - Karachi"
   ]
  },
  {
   "cell_type": "code",
   "execution_count": null,
   "id": "0c9c1102",
   "metadata": {},
   "outputs": [
    {
     "name": "stdout",
     "output_type": "stream",
     "text": [
      "Case Study: Karachi (urban)\n",
      "  Country     : Pakistan\n",
      "  City        : Karachi\n",
      "  Date        : 2023-12-17\n"
     ]
    }
   ],
   "source": [
    "karachi = CaseStudiesUrban.KARACHI\n",
    "karachi_df = landsat.raster(karachi.gdf, karachi.get_date_range(months=6))"
   ]
  },
  {
   "cell_type": "markdown",
   "id": "e3153c19",
   "metadata": {},
   "source": [
    "### USA - Los Angeles"
   ]
  },
  {
   "cell_type": "code",
   "execution_count": null,
   "id": "917123ec",
   "metadata": {},
   "outputs": [
    {
     "name": "stdout",
     "output_type": "stream",
     "text": [
      "Case Study: Los Angeles (urban)\n",
      "  Country     : USA\n",
      "  City        : Los Angeles\n",
      "  Date        : 2022-11-30\n"
     ]
    }
   ],
   "source": [
    "los_angeles = CaseStudiesUrban.LOS_ANGELES\n",
    "los_angeles_df = landsat.raster(los_angeles.gdf, los_angeles.get_date_range(months=6))"
   ]
  },
  {
   "cell_type": "markdown",
   "id": "5fde1f5f",
   "metadata": {},
   "source": [
    "### South Africa - Pretoria"
   ]
  },
  {
   "cell_type": "code",
   "execution_count": null,
   "id": "753ef6aa",
   "metadata": {},
   "outputs": [
    {
     "name": "stdout",
     "output_type": "stream",
     "text": [
      "Case Study: Pretoria (urban)\n",
      "  Country     : South Africa\n",
      "  City        : Pretoria\n",
      "  Date        : 2022-03-18\n"
     ]
    }
   ],
   "source": [
    "pretoria = CaseStudiesUrban.PRETORIA\n",
    "pretoria_df = landsat.raster(pretoria.gdf, pretoria.get_date_range(months=6))"
   ]
  },
  {
   "cell_type": "code",
   "execution_count": null,
   "id": "4a6471cd",
   "metadata": {},
   "outputs": [],
   "source": []
  }
 ],
 "metadata": {
  "kernelspec": {
   "display_name": "conflict-monitoring-ntl",
   "language": "python",
   "name": "python3"
  },
  "language_info": {
   "codemirror_mode": {
    "name": "ipython",
    "version": 3
   },
   "file_extension": ".py",
   "mimetype": "text/x-python",
   "name": "python",
   "nbconvert_exporter": "python",
   "pygments_lexer": "ipython3",
   "version": "3.13.5"
  }
 },
 "nbformat": 4,
 "nbformat_minor": 5
}
