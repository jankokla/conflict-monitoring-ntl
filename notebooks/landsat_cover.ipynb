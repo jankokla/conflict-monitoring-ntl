{
 "cells": [
  {
   "cell_type": "markdown",
   "id": "f4fd1fae",
   "metadata": {},
   "source": [
    "# Case Studies"
   ]
  },
  {
   "cell_type": "code",
   "execution_count": 1,
   "id": "2c9b35dc",
   "metadata": {},
   "outputs": [],
   "source": [
    "from conflict_monitoring_ntl.satellites import Landsat\n",
    "from conflict_monitoring_ntl.case_studies import (\n",
    "    CaseStudiesRural, \n",
    "    CaseStudiesPeriUrban,\n",
    "    CaseStudiesUrban\n",
    ")"
   ]
  },
  {
   "cell_type": "code",
   "execution_count": 2,
   "id": "eaa75f34",
   "metadata": {},
   "outputs": [],
   "source": [
    "%load_ext autoreload\n",
    "%autoreload 2"
   ]
  },
  {
   "cell_type": "code",
   "execution_count": 3,
   "id": "2e235e8f",
   "metadata": {},
   "outputs": [],
   "source": [
    "landsat = Landsat()"
   ]
  },
  {
   "cell_type": "markdown",
   "id": "521c1caf",
   "metadata": {},
   "source": [
    "## Rural"
   ]
  },
  {
   "cell_type": "markdown",
   "id": "db486b05",
   "metadata": {},
   "source": [
    "### Sudan - Nyala"
   ]
  },
  {
   "cell_type": "code",
   "execution_count": 4,
   "id": "7a1da4ac",
   "metadata": {},
   "outputs": [
    {
     "name": "stderr",
     "output_type": "stream",
     "text": [
      "2025-10-09 17:11:48,711 - conflict_monitoring_ntl.logger - WARNING - [Landsat] No images for given region and date range.\n"
     ]
    }
   ],
   "source": [
    "nyala = CaseStudiesRural.NYALA\n",
    "nyala_df = landsat.raster(\n",
    "    gdf=nyala.gdf, \n",
    "    date_range=nyala.get_date_range(months=6), \n",
    "    timezone=nyala.timezone\n",
    ")"
   ]
  },
  {
   "cell_type": "markdown",
   "id": "36d609e7",
   "metadata": {},
   "source": [
    "### South Sudan - Bentiu"
   ]
  },
  {
   "cell_type": "code",
   "execution_count": 5,
   "id": "7a8807a4",
   "metadata": {},
   "outputs": [
    {
     "name": "stderr",
     "output_type": "stream",
     "text": [
      "2025-10-09 17:36:48,010 - conflict_monitoring_ntl.logger - WARNING - [Landsat] No images for given region and date range.\n"
     ]
    }
   ],
   "source": [
    "bentiu = CaseStudiesRural.BENTIU\n",
    "bentiu_df = landsat.raster(\n",
    "    gdf=bentiu.gdf, \n",
    "    date_range=bentiu.get_date_range(months=6), \n",
    "    timezone=bentiu.timezone\n",
    ")"
   ]
  },
  {
   "cell_type": "markdown",
   "id": "12ca409d",
   "metadata": {
    "notebookRunGroups": {
     "groupValue": "1"
    }
   },
   "source": [
    "### Nigeria - Maiduguri"
   ]
  },
  {
   "cell_type": "code",
   "execution_count": 6,
   "id": "f63c1da8",
   "metadata": {},
   "outputs": [
    {
     "name": "stderr",
     "output_type": "stream",
     "text": [
      "2025-10-09 17:38:09,215 - conflict_monitoring_ntl.logger - WARNING - [Landsat] No images for given region and date range.\n"
     ]
    }
   ],
   "source": [
    "maiduguri = CaseStudiesRural.MAIDUGURI\n",
    "maiduguri_df = landsat.raster(\n",
    "    gdf=maiduguri.gdf, \n",
    "    date_range=maiduguri.get_date_range(months=6), \n",
    "    timezone=maiduguri.timezone\n",
    ")"
   ]
  },
  {
   "cell_type": "markdown",
   "id": "75406530",
   "metadata": {},
   "source": [
    "### Myanmar - Sittwe area"
   ]
  },
  {
   "cell_type": "code",
   "execution_count": 7,
   "id": "41a53a76",
   "metadata": {},
   "outputs": [
    {
     "name": "stderr",
     "output_type": "stream",
     "text": [
      "2025-10-09 17:39:33,200 - conflict_monitoring_ntl.logger - WARNING - [Landsat] No images for given region and date range.\n"
     ]
    }
   ],
   "source": [
    "sittwe = CaseStudiesRural.SITTWE\n",
    "sittwe_df = landsat.raster(\n",
    "    gdf=sittwe.gdf, \n",
    "    date_range=sittwe.get_date_range(months=6), \n",
    "    timezone=sittwe.timezone\n",
    ")"
   ]
  },
  {
   "cell_type": "markdown",
   "id": "98111fd6",
   "metadata": {},
   "source": [
    "### Ethiopia - Mekele"
   ]
  },
  {
   "cell_type": "code",
   "execution_count": 8,
   "id": "ecc9c8ce",
   "metadata": {},
   "outputs": [
    {
     "name": "stderr",
     "output_type": "stream",
     "text": [
      "2025-10-09 17:40:51,019 - conflict_monitoring_ntl.logger - WARNING - [Landsat] No images for given region and date range.\n"
     ]
    }
   ],
   "source": [
    "mekele = CaseStudiesRural.MEKELE\n",
    "mekele_df = landsat.raster(\n",
    "    gdf=mekele.gdf,\n",
    "    date_range=mekele.get_date_range(months=6),\n",
    "    timezone=mekele.timezone\n",
    ")"
   ]
  },
  {
   "cell_type": "markdown",
   "id": "ad5f8456",
   "metadata": {},
   "source": [
    "### Yemen - Al Hudaydah"
   ]
  },
  {
   "cell_type": "code",
   "execution_count": 9,
   "id": "edd3ca93",
   "metadata": {},
   "outputs": [
    {
     "name": "stderr",
     "output_type": "stream",
     "text": [
      "2025-10-09 17:42:08,600 - conflict_monitoring_ntl.logger - WARNING - [Landsat] No images for given region and date range.\n"
     ]
    }
   ],
   "source": [
    "al_hudaydah = CaseStudiesRural.AL_HUDAYDAH\n",
    "al_hudaydah_df = landsat.raster(\n",
    "    gdf=al_hudaydah.gdf, \n",
    "    date_range=al_hudaydah.get_date_range(months=6),\n",
    "    timezone=al_hudaydah.timezone\n",
    ")"
   ]
  },
  {
   "cell_type": "markdown",
   "id": "c5bc8c7c",
   "metadata": {},
   "source": [
    "### Central African Republic - Kaga Bandoro"
   ]
  },
  {
   "cell_type": "code",
   "execution_count": 10,
   "id": "86b51870",
   "metadata": {},
   "outputs": [
    {
     "name": "stderr",
     "output_type": "stream",
     "text": [
      "2025-10-09 17:43:25,851 - conflict_monitoring_ntl.logger - WARNING - [Landsat] No images for given region and date range.\n"
     ]
    }
   ],
   "source": [
    "kaga_bandoro = CaseStudiesRural.KAGA_BANDORO\n",
    "kaga_bandoro_df = landsat.raster(\n",
    "    gdf=kaga_bandoro.gdf,\n",
    "    date_range=kaga_bandoro.get_date_range(months=6),\n",
    "    timezone=kaga_bandoro.timezone\n",
    ")"
   ]
  },
  {
   "cell_type": "markdown",
   "id": "4e6b8145",
   "metadata": {},
   "source": [
    "### Mali - Mopti"
   ]
  },
  {
   "cell_type": "code",
   "execution_count": 11,
   "id": "f3b191c0",
   "metadata": {},
   "outputs": [
    {
     "name": "stderr",
     "output_type": "stream",
     "text": [
      "2025-10-09 17:44:42,863 - conflict_monitoring_ntl.logger - WARNING - [Landsat] No images for given region and date range.\n"
     ]
    }
   ],
   "source": [
    "mopti = CaseStudiesRural.MOPTI\n",
    "mopti_df = landsat.raster(\n",
    "    gdf=mopti.gdf, \n",
    "    date_range=mopti.get_date_range(months=6),\n",
    "    timezone=mopti.timezone\n",
    ")"
   ]
  },
  {
   "cell_type": "markdown",
   "id": "56a31946",
   "metadata": {},
   "source": [
    "### Syria - Deir ez-Zor"
   ]
  },
  {
   "cell_type": "code",
   "execution_count": 12,
   "id": "327219e9",
   "metadata": {},
   "outputs": [
    {
     "name": "stderr",
     "output_type": "stream",
     "text": [
      "2025-10-09 17:46:00,631 - conflict_monitoring_ntl.logger - WARNING - [Landsat] No images for given region and date range.\n"
     ]
    }
   ],
   "source": [
    "deir_ez_zor = CaseStudiesRural.DEIR_EZ_ZOR\n",
    "deir_ez_zor_df = landsat.raster(\n",
    "    gdf=deir_ez_zor.gdf, \n",
    "    date_range=deir_ez_zor.get_date_range(months=6),\n",
    "    timezone=deir_ez_zor.timezone\n",
    ")"
   ]
  },
  {
   "cell_type": "markdown",
   "id": "dc86f207",
   "metadata": {},
   "source": [
    "### Democratic Republic of the Congo - Katana"
   ]
  },
  {
   "cell_type": "code",
   "execution_count": 13,
   "id": "ccd82e6b",
   "metadata": {},
   "outputs": [
    {
     "name": "stderr",
     "output_type": "stream",
     "text": [
      "2025-10-09 17:47:17,479 - conflict_monitoring_ntl.logger - WARNING - [Landsat] No images for given region and date range.\n"
     ]
    }
   ],
   "source": [
    "katana = CaseStudiesRural.KATANA\n",
    "katana_df = landsat.raster(\n",
    "    gdf=katana.gdf, \n",
    "    date_range=katana.get_date_range(months=6),\n",
    "    timezone=katana.timezone\n",
    ")"
   ]
  },
  {
   "cell_type": "markdown",
   "id": "87a02d16",
   "metadata": {},
   "source": [
    "## Peri-Urban"
   ]
  },
  {
   "cell_type": "markdown",
   "id": "de81026a",
   "metadata": {},
   "source": [
    "### Morocco - Oujda"
   ]
  },
  {
   "cell_type": "code",
   "execution_count": 4,
   "id": "1fd99f72",
   "metadata": {},
   "outputs": [
    {
     "name": "stderr",
     "output_type": "stream",
     "text": [
      "2025-10-10 08:18:53,226 - conflict_monitoring_ntl.logger - WARNING - [Landsat] No images for given region and date range.\n"
     ]
    }
   ],
   "source": [
    "oudja = CaseStudiesPeriUrban.OUJDA\n",
    "oudja_df = landsat.raster(\n",
    "    gdf=oudja.gdf, \n",
    "    date_range=oudja.get_date_range(months=6),\n",
    "    timezone=oudja.timezone\n",
    ")"
   ]
  },
  {
   "cell_type": "markdown",
   "id": "15ee9fe9",
   "metadata": {},
   "source": [
    "### India - Raipur"
   ]
  },
  {
   "cell_type": "code",
   "execution_count": 5,
   "id": "2826c936",
   "metadata": {},
   "outputs": [
    {
     "name": "stderr",
     "output_type": "stream",
     "text": [
      "2025-10-10 08:20:12,657 - conflict_monitoring_ntl.logger - WARNING - [Landsat] No images for given region and date range.\n"
     ]
    }
   ],
   "source": [
    "raipur = CaseStudiesPeriUrban.RAIPUR\n",
    "raipur_df = landsat.raster(\n",
    "    gdf=raipur.gdf, \n",
    "    date_range=raipur.get_date_range(months=6),\n",
    "    timezone=raipur.timezone\n",
    ")"
   ]
  },
  {
   "cell_type": "markdown",
   "id": "831480ef",
   "metadata": {},
   "source": [
    "### Bangladesh - Rangpur"
   ]
  },
  {
   "cell_type": "code",
   "execution_count": 6,
   "id": "e4428d99",
   "metadata": {},
   "outputs": [
    {
     "name": "stderr",
     "output_type": "stream",
     "text": [
      "2025-10-10 08:21:32,228 - conflict_monitoring_ntl.logger - WARNING - [Landsat] No images for given region and date range.\n"
     ]
    }
   ],
   "source": [
    "rangpur = CaseStudiesPeriUrban.RANGPUR\n",
    "rangpur_df = landsat.raster(\n",
    "    gdf=rangpur.gdf, \n",
    "    date_range=rangpur.get_date_range(months=6),\n",
    "    timezone=rangpur.timezone\n",
    ")"
   ]
  },
  {
   "cell_type": "markdown",
   "id": "8643cf88",
   "metadata": {},
   "source": [
    "### Sri Lanka - Kuranegala"
   ]
  },
  {
   "cell_type": "code",
   "execution_count": 7,
   "id": "668c76df",
   "metadata": {},
   "outputs": [
    {
     "name": "stderr",
     "output_type": "stream",
     "text": [
      "2025-10-10 08:22:48,949 - conflict_monitoring_ntl.logger - WARNING - [Landsat] No images for given region and date range.\n"
     ]
    }
   ],
   "source": [
    "kuranegala = CaseStudiesPeriUrban.KURANEGALA\n",
    "kuranegala_df = landsat.raster(\n",
    "    gdf=kuranegala.gdf, \n",
    "    date_range=kuranegala.get_date_range(months=6),\n",
    "    timezone=kuranegala.timezone\n",
    ")"
   ]
  },
  {
   "cell_type": "markdown",
   "id": "e589b48f",
   "metadata": {},
   "source": [
    "### Vietnam - Can Tho"
   ]
  },
  {
   "cell_type": "code",
   "execution_count": 8,
   "id": "3e79bc64",
   "metadata": {},
   "outputs": [
    {
     "name": "stderr",
     "output_type": "stream",
     "text": [
      "2025-10-10 08:24:05,230 - conflict_monitoring_ntl.logger - WARNING - [Landsat] No images for given region and date range.\n"
     ]
    }
   ],
   "source": [
    "can_tho = CaseStudiesPeriUrban.CAN_THO\n",
    "can_tho_df = landsat.raster(\n",
    "    gdf=can_tho.gdf, \n",
    "    date_range=can_tho.get_date_range(months=6),\n",
    "    timezone=can_tho.timezone\n",
    ")"
   ]
  },
  {
   "cell_type": "markdown",
   "id": "5bc34ecb",
   "metadata": {},
   "source": [
    "### Philippines - Legazpi"
   ]
  },
  {
   "cell_type": "code",
   "execution_count": 9,
   "id": "2eae354d",
   "metadata": {},
   "outputs": [
    {
     "name": "stderr",
     "output_type": "stream",
     "text": [
      "2025-10-10 08:25:21,741 - conflict_monitoring_ntl.logger - WARNING - [Landsat] No images for given region and date range.\n"
     ]
    }
   ],
   "source": [
    "legazpi = CaseStudiesPeriUrban.LEGAZPI\n",
    "legazpi_df = landsat.raster(\n",
    "    gdf=legazpi.gdf, \n",
    "    date_range=legazpi.get_date_range(months=6),\n",
    "    timezone=legazpi.timezone\n",
    ")"
   ]
  },
  {
   "cell_type": "markdown",
   "id": "cb5e183d",
   "metadata": {},
   "source": [
    "### Uzbekistan - Qarshi"
   ]
  },
  {
   "cell_type": "code",
   "execution_count": 10,
   "id": "83d627ee",
   "metadata": {},
   "outputs": [
    {
     "name": "stderr",
     "output_type": "stream",
     "text": [
      "2025-10-10 08:27:20,821 - conflict_monitoring_ntl.logger - WARNING - [Landsat] No images for given region and date range.\n"
     ]
    }
   ],
   "source": [
    "qarshi = CaseStudiesPeriUrban.QARSHI\n",
    "qarshi_df = landsat.raster(\n",
    "    gdf=qarshi.gdf, \n",
    "    date_range=qarshi.get_date_range(months=6),\n",
    "    timezone=qarshi.timezone\n",
    ")"
   ]
  },
  {
   "cell_type": "markdown",
   "id": "1aced1e4",
   "metadata": {},
   "source": [
    "### Ghana - Kumasi"
   ]
  },
  {
   "cell_type": "code",
   "execution_count": 11,
   "id": "f6211d31",
   "metadata": {},
   "outputs": [
    {
     "name": "stderr",
     "output_type": "stream",
     "text": [
      "2025-10-10 08:28:40,352 - conflict_monitoring_ntl.logger - WARNING - [Landsat] No images for given region and date range.\n"
     ]
    }
   ],
   "source": [
    "kumasi = CaseStudiesPeriUrban.KUMASI\n",
    "kumasi_df = landsat.raster(\n",
    "    gdf=kumasi.gdf, \n",
    "    date_range=kumasi.get_date_range(months=6),\n",
    "    timezone=kumasi.timezone\n",
    ")"
   ]
  },
  {
   "cell_type": "markdown",
   "id": "2f6f5809",
   "metadata": {},
   "source": [
    "### Colombia - Villavicencio"
   ]
  },
  {
   "cell_type": "code",
   "execution_count": 12,
   "id": "8523b6ed",
   "metadata": {},
   "outputs": [
    {
     "name": "stderr",
     "output_type": "stream",
     "text": [
      "2025-10-10 08:31:27,107 - conflict_monitoring_ntl.logger - WARNING - [Landsat] No images for given region and date range.\n"
     ]
    }
   ],
   "source": [
    "villavicencio = CaseStudiesPeriUrban.VILLAVICENCIO\n",
    "villavicencio_df = landsat.raster(\n",
    "    gdf=villavicencio.gdf, \n",
    "    date_range=villavicencio.get_date_range(months=6),\n",
    "    timezone=villavicencio.timezone\n",
    ")"
   ]
  },
  {
   "cell_type": "markdown",
   "id": "b652fa38",
   "metadata": {},
   "source": [
    "### Kenya - Nakuru"
   ]
  },
  {
   "cell_type": "code",
   "execution_count": 13,
   "id": "323dc47c",
   "metadata": {},
   "outputs": [
    {
     "name": "stderr",
     "output_type": "stream",
     "text": [
      "2025-10-10 08:32:49,425 - conflict_monitoring_ntl.logger - WARNING - [Landsat] No images for given region and date range.\n"
     ]
    }
   ],
   "source": [
    "nakuru = CaseStudiesPeriUrban.NAKURU\n",
    "nakuru_df = landsat.raster(\n",
    "    gdf=nakuru.gdf, \n",
    "    date_range=nakuru.get_date_range(months=6),\n",
    "    timezone=nakuru.timezone\n",
    ")"
   ]
  },
  {
   "cell_type": "markdown",
   "id": "f58048d0",
   "metadata": {},
   "source": [
    "## Urban"
   ]
  },
  {
   "cell_type": "markdown",
   "id": "b47de54f",
   "metadata": {},
   "source": [
    "### Nigeria - Lagos"
   ]
  },
  {
   "cell_type": "code",
   "execution_count": null,
   "id": "8322604b",
   "metadata": {},
   "outputs": [
    {
     "name": "stdout",
     "output_type": "stream",
     "text": [
      "Case Study: Lagos (urban)\n",
      "  Country     : Nigeria\n",
      "  City        : Lagos\n",
      "  Date        : 2024-12-23\n"
     ]
    }
   ],
   "source": [
    "lagos = CaseStudiesUrban.LAGOS\n",
    "lagos_df = landsat.raster(lagos.gdf, lagos.get_date_range(months=6))"
   ]
  },
  {
   "cell_type": "markdown",
   "id": "1a007c20",
   "metadata": {},
   "source": [
    "### India - New Delhi"
   ]
  },
  {
   "cell_type": "code",
   "execution_count": null,
   "id": "c7ed6dd5",
   "metadata": {},
   "outputs": [
    {
     "name": "stdout",
     "output_type": "stream",
     "text": [
      "Case Study: New Delhi (urban)\n",
      "  Country     : India\n",
      "  City        : New Delhi\n",
      "  Date        : 2022-02-27\n"
     ]
    }
   ],
   "source": [
    "new_delhi = CaseStudiesUrban.NEW_DELHI\n",
    "new_delhi_df = landsat.raster(new_delhi.gdf, new_delhi.get_date_range(months=6))"
   ]
  },
  {
   "cell_type": "markdown",
   "id": "cc1842e5",
   "metadata": {},
   "source": [
    "### China - Shanghai"
   ]
  },
  {
   "cell_type": "code",
   "execution_count": null,
   "id": "3dd91504",
   "metadata": {},
   "outputs": [
    {
     "name": "stdout",
     "output_type": "stream",
     "text": [
      "Case Study: Shanghai (urban)\n",
      "  Country     : China\n",
      "  City        : Shanghai\n",
      "  Date        : 2021-11-10\n"
     ]
    }
   ],
   "source": [
    "shanghai = CaseStudiesUrban.SHANGHAI\n",
    "shanghai_df = landsat.raster(shanghai.gdf, shanghai.get_date_range(months=6))"
   ]
  },
  {
   "cell_type": "markdown",
   "id": "028528ec",
   "metadata": {},
   "source": [
    "### Egypt - Cairo"
   ]
  },
  {
   "cell_type": "code",
   "execution_count": null,
   "id": "2d031742",
   "metadata": {},
   "outputs": [
    {
     "name": "stdout",
     "output_type": "stream",
     "text": [
      "Case Study: Cairo (urban)\n",
      "  Country     : Egypt\n",
      "  City        : Cairo\n",
      "  Date        : 2022-02-06\n"
     ]
    }
   ],
   "source": [
    "cairo = CaseStudiesUrban.CAIRO\n",
    "cairo_df = landsat.raster(cairo.gdf, cairo.get_date_range(months=6))"
   ]
  },
  {
   "cell_type": "markdown",
   "id": "8b700326",
   "metadata": {},
   "source": [
    "### Switzerland - Zurich"
   ]
  },
  {
   "cell_type": "code",
   "execution_count": null,
   "id": "db8a3965",
   "metadata": {},
   "outputs": [
    {
     "name": "stdout",
     "output_type": "stream",
     "text": [
      "Case Study: Zurich (urban)\n",
      "  Country     : Switzerland\n",
      "  City        : Zurich\n",
      "  Date        : 2022-03-22\n"
     ]
    }
   ],
   "source": [
    "zurich = CaseStudiesUrban.ZURICH\n",
    "zurich_df = landsat.raster(zurich.gdf, zurich.get_date_range(months=6))"
   ]
  },
  {
   "cell_type": "markdown",
   "id": "83a7b1d2",
   "metadata": {},
   "source": [
    "### Mexico - Mexico City"
   ]
  },
  {
   "cell_type": "code",
   "execution_count": null,
   "id": "5148cc3f",
   "metadata": {},
   "outputs": [
    {
     "name": "stdout",
     "output_type": "stream",
     "text": [
      "Case Study: Mexico City (urban)\n",
      "  Country     : Mexico\n",
      "  City        : Mexico City\n",
      "  Date        : 2022-05-16\n"
     ]
    }
   ],
   "source": [
    "mexico_city = CaseStudiesUrban.MEXICO_CITY\n",
    "mexico_city_df = landsat.raster(mexico_city.gdf, mexico_city.get_date_range(months=6))"
   ]
  },
  {
   "cell_type": "markdown",
   "id": "2062bfc2",
   "metadata": {},
   "source": [
    "### Japan - Tokyo"
   ]
  },
  {
   "cell_type": "code",
   "execution_count": null,
   "id": "70eea6bc",
   "metadata": {},
   "outputs": [
    {
     "name": "stdout",
     "output_type": "stream",
     "text": [
      "Case Study: Tokyo (urban)\n",
      "  Country     : Japan\n",
      "  City        : Tokyo\n",
      "  Date        : 2022-01-08\n"
     ]
    }
   ],
   "source": [
    "tokyo = CaseStudiesUrban.TOKYO\n",
    "tokyo_df = landsat.raster(tokyo.gdf, tokyo.get_date_range(months=6))"
   ]
  },
  {
   "cell_type": "markdown",
   "id": "5746271e",
   "metadata": {},
   "source": [
    "### Pakistan - Karachi"
   ]
  },
  {
   "cell_type": "code",
   "execution_count": null,
   "id": "0c9c1102",
   "metadata": {},
   "outputs": [
    {
     "name": "stdout",
     "output_type": "stream",
     "text": [
      "Case Study: Karachi (urban)\n",
      "  Country     : Pakistan\n",
      "  City        : Karachi\n",
      "  Date        : 2023-12-17\n"
     ]
    }
   ],
   "source": [
    "karachi = CaseStudiesUrban.KARACHI\n",
    "karachi_df = landsat.raster(karachi.gdf, karachi.get_date_range(months=6))"
   ]
  },
  {
   "cell_type": "markdown",
   "id": "e3153c19",
   "metadata": {},
   "source": [
    "### USA - Los Angeles"
   ]
  },
  {
   "cell_type": "code",
   "execution_count": null,
   "id": "917123ec",
   "metadata": {},
   "outputs": [
    {
     "name": "stdout",
     "output_type": "stream",
     "text": [
      "Case Study: Los Angeles (urban)\n",
      "  Country     : USA\n",
      "  City        : Los Angeles\n",
      "  Date        : 2022-11-30\n"
     ]
    }
   ],
   "source": [
    "los_angeles = CaseStudiesUrban.LOS_ANGELES\n",
    "los_angeles_df = landsat.raster(los_angeles.gdf, los_angeles.get_date_range(months=6))"
   ]
  },
  {
   "cell_type": "markdown",
   "id": "5fde1f5f",
   "metadata": {},
   "source": [
    "### South Africa - Pretoria"
   ]
  },
  {
   "cell_type": "code",
   "execution_count": null,
   "id": "753ef6aa",
   "metadata": {},
   "outputs": [
    {
     "name": "stdout",
     "output_type": "stream",
     "text": [
      "Case Study: Pretoria (urban)\n",
      "  Country     : South Africa\n",
      "  City        : Pretoria\n",
      "  Date        : 2022-03-18\n"
     ]
    }
   ],
   "source": [
    "pretoria = CaseStudiesUrban.PRETORIA\n",
    "pretoria_df = landsat.raster(pretoria.gdf, pretoria.get_date_range(months=6))"
   ]
  },
  {
   "cell_type": "code",
   "execution_count": null,
   "id": "4a6471cd",
   "metadata": {},
   "outputs": [],
   "source": []
  }
 ],
 "metadata": {
  "kernelspec": {
   "display_name": "conflict-monitoring-ntl",
   "language": "python",
   "name": "python3"
  },
  "language_info": {
   "codemirror_mode": {
    "name": "ipython",
    "version": 3
   },
   "file_extension": ".py",
   "mimetype": "text/x-python",
   "name": "python",
   "nbconvert_exporter": "python",
   "pygments_lexer": "ipython3",
   "version": "3.13.5"
  }
 },
 "nbformat": 4,
 "nbformat_minor": 5
}
