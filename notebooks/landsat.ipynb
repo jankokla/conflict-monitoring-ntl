{
 "cells": [
  {
   "cell_type": "markdown",
   "id": "0c7601d5",
   "metadata": {},
   "source": [
    "# Landsat Exploration"
   ]
  },
  {
   "cell_type": "code",
   "execution_count": 1,
   "id": "ec0b4cb4",
   "metadata": {},
   "outputs": [],
   "source": [
    "import geopandas as gpd\n",
    "from dotenv import load_dotenv\n",
    "from datetime import date\n",
    "\n",
    "from conflict_monitoring_ntl.satellites import Landsat\n",
    "\n",
    "import warnings\n",
    "warnings.filterwarnings(\"ignore\")"
   ]
  },
  {
   "cell_type": "code",
   "execution_count": 2,
   "id": "b3c6d748",
   "metadata": {},
   "outputs": [],
   "source": [
    "_ = load_dotenv()"
   ]
  },
  {
   "cell_type": "markdown",
   "id": "cab61ba5",
   "metadata": {},
   "source": [
    "## Setting Up"
   ]
  },
  {
   "cell_type": "code",
   "execution_count": 3,
   "id": "3487da53",
   "metadata": {},
   "outputs": [],
   "source": [
    "gdf: gpd.geodataframe.GeoDataFrame = gpd.read_file(\"../data/shapes/lagos/lagos.shp\")\n",
    "date_range = [date(2024, 12, 22), date(2024, 12, 25)]"
   ]
  },
  {
   "cell_type": "code",
   "execution_count": 4,
   "id": "68ca4f9b",
   "metadata": {},
   "outputs": [],
   "source": [
    "import os\n",
    "import requests\n",
    "\n",
    "SERVICE_URL = \"https://m2m.cr.usgs.gov/api/api/json/stable\"\n",
    "\n",
    "response = requests.post(\n",
    "    os.path.join(SERVICE_URL, \"login-token\"),\n",
    "    json={\n",
    "        \"username\": os.getenv(\"EARTHEXPLORER_USERNAME\"),\n",
    "        \"token\": os.getenv(\"EARTHEXPLORER_TOKEN\"),\n",
    "    },\n",
    ")"
   ]
  },
  {
   "cell_type": "code",
   "execution_count": null,
   "id": "5e12fe9e",
   "metadata": {},
   "outputs": [],
   "source": [
    "landsat = Landsat()"
   ]
  },
  {
   "cell_type": "code",
   "execution_count": 7,
   "id": "9887c6f5",
   "metadata": {},
   "outputs": [],
   "source": [
    "landsat.spatial_filter = gdf"
   ]
  },
  {
   "cell_type": "code",
   "execution_count": null,
   "id": "d96c1764",
   "metadata": {},
   "outputs": [
    {
     "data": {
      "application/vnd.microsoft.datawrangler.viewer.v0+json": {
       "columns": [
        {
         "name": "index",
         "rawType": "int64",
         "type": "integer"
        },
        {
         "name": "browse",
         "rawType": "object",
         "type": "unknown"
        },
        {
         "name": "cloudCover",
         "rawType": "int64",
         "type": "integer"
        },
        {
         "name": "entityId",
         "rawType": "object",
         "type": "string"
        },
        {
         "name": "displayId",
         "rawType": "object",
         "type": "string"
        },
        {
         "name": "orderingId",
         "rawType": "object",
         "type": "unknown"
        },
        {
         "name": "metadata",
         "rawType": "object",
         "type": "unknown"
        },
        {
         "name": "hasCustomizedMetadata",
         "rawType": "object",
         "type": "unknown"
        },
        {
         "name": "publishDate",
         "rawType": "object",
         "type": "string"
        },
        {
         "name": "options.bulk",
         "rawType": "bool",
         "type": "boolean"
        },
        {
         "name": "options.download",
         "rawType": "bool",
         "type": "boolean"
        },
        {
         "name": "options.order",
         "rawType": "bool",
         "type": "boolean"
        },
        {
         "name": "options.secondary",
         "rawType": "bool",
         "type": "boolean"
        },
        {
         "name": "selected.bulk",
         "rawType": "bool",
         "type": "boolean"
        },
        {
         "name": "selected.compare",
         "rawType": "bool",
         "type": "boolean"
        },
        {
         "name": "selected.order",
         "rawType": "bool",
         "type": "boolean"
        },
        {
         "name": "spatialBounds.type",
         "rawType": "object",
         "type": "string"
        },
        {
         "name": "spatialBounds.coordinates",
         "rawType": "object",
         "type": "unknown"
        },
        {
         "name": "spatialCoverage.type",
         "rawType": "object",
         "type": "string"
        },
        {
         "name": "spatialCoverage.coordinates",
         "rawType": "object",
         "type": "unknown"
        },
        {
         "name": "temporalCoverage.endDate",
         "rawType": "object",
         "type": "string"
        },
        {
         "name": "temporalCoverage.startDate",
         "rawType": "object",
         "type": "string"
        }
       ],
       "ref": "5c79e02e-c6b0-4fcd-a12a-d1921fe4699e",
       "rows": [
        [
         "0",
         "[{'id': '5fb4ba12d7ec307f', 'browseRotationEnabled': None, 'browseName': 'Level-1 Reflective Browse', 'browsePath': 'https://landsatlook.usgs.gov/gen-browse?size=rrb&type=refl&product_id=LC08_L1TP_190055_20241225_20241228_02_T1', 'overlayPath': 'https://landsatlook.usgs.gov/dynamic-tiler/scenes/LC08_L1TP_190055_20241225_20241228_02_T1/tiles/{z}/{x}/{y}.png?layer=natural_color', 'overlayType': 'ls_chs', 'thumbnailPath': 'https://landsatlook.usgs.gov/gen-browse?size=thumb&type=refl&product_id=LC08_L1TP_190055_20241225_20241228_02_T1'}]",
         "0",
         "LC81900552024360LGN00",
         "LC08_L2SP_190055_20241225_20241228_02_T1",
         null,
         "[{'id': '5e83d1508031a4a3', 'fieldName': 'ID', 'dictionaryLink': '', 'value': 'LC08_L2SP_190055_20241225_20241228_02_T1'}, {'id': '5e83d150b3286fe6', 'fieldName': 'Landsat Product Identifier L2', 'dictionaryLink': 'https://www.usgs.gov/centers/eros/science/landsat-collection-2-data-dictionary#landsat_product_id', 'value': 'LC08_L2SP_190055_20241225_20241228_02_T1'}, {'id': '5e83d1507bc900d5', 'fieldName': 'Landsat Product Identifier L2', 'dictionaryLink': 'https://www.usgs.gov/centers/eros/science/landsat-collection-2-data-dictionary#landsat_product_id', 'value': 'LC08_L2SP_190055_20241225_20241228_02_T1'}, {'id': '5e83d150cf9c15cb', 'fieldName': 'Landsat Product Identifier L1', 'dictionaryLink': 'https://www.usgs.gov/centers/eros/science/landsat-collection-2-data-dictionary#landsat_product_id', 'value': 'LC08_L1TP_190055_20241225_20241228_02_T1'}, {'id': '5e83d15012b8905f', 'fieldName': 'Landsat Product Identifier L1', 'dictionaryLink': 'https://www.usgs.gov/centers/eros/science/landsat-collection-2-data-dictionary#landsat_product_id', 'value': 'LC08_L1TP_190055_20241225_20241228_02_T1'}, {'id': '5e83d150e751e0b6', 'fieldName': 'UL_LAT', 'dictionaryLink': '', 'value': '8.27937'}, {'id': '5e83d150912abc7e', 'fieldName': 'UL_LON', 'dictionaryLink': '', 'value': '3.91894'}, {'id': '5e83d15090f4ef1f', 'fieldName': 'Date Acquired', 'dictionaryLink': '', 'value': '2024/12/25'}, {'id': '5e83d15026e218b4', 'fieldName': 'Landsat Scene Identifier', 'dictionaryLink': 'https://www.usgs.gov/centers/eros/science/landsat-collection-2-data-dictionary#landsat_scene_id', 'value': 'LC81900552024360LGN00'}, {'id': '5e83d150cffa8a2a', 'fieldName': 'Landsat Scene Identifier', 'dictionaryLink': 'https://www.usgs.gov/centers/eros/science/landsat-collection-2-data-dictionary#landsat_scene_id', 'value': 'LC81900552024360LGN00'}, {'id': '5e83d150a04d71a8', 'fieldName': 'Date Acquired', 'dictionaryLink': 'https://www.usgs.gov/centers/eros/science/landsat-collection-2-data-dictionary#acquisition_date', 'value': '2024/12/25'}, {'id': '5e83d1508a64f4a6', 'fieldName': 'Date Acquired', 'dictionaryLink': 'https://www.usgs.gov/centers/eros/science/landsat-collection-2-data-dictionary#acquisition_date', 'value': '2024/12/25'}, {'id': '5e83d150860e7248', 'fieldName': 'UR_LAT', 'dictionaryLink': '', 'value': '8.26934'}, {'id': '5e83d1501b4fb6a0', 'fieldName': 'Path', 'dictionaryLink': '', 'value': ' 190'}, {'id': '5e83d150ecc0c3db', 'fieldName': 'Row', 'dictionaryLink': '', 'value': ' 055'}, {'id': '5e83d15058741c90', 'fieldName': 'UR_LON', 'dictionaryLink': '', 'value': '5.97712'}, {'id': '5e83d1504fa54017', 'fieldName': 'Collection Category', 'dictionaryLink': 'https://www.usgs.gov/centers/eros/science/landsat-collection-2-data-dictionary#collection_category', 'value': 'T1'}, {'id': '5e83d150d14f2972', 'fieldName': 'Collection Category', 'dictionaryLink': 'https://www.usgs.gov/centers/eros/science/landsat-collection-2-data-dictionary#collection_category', 'value': 'T1'}, {'id': '5e83d150cc5838a', 'fieldName': 'Collection Number', 'dictionaryLink': 'https://www.usgs.gov/centers/eros/science/landsat-collection-2-data-dictionary#collection_number', 'value': 2}, {'id': '5e83d150ad06ba56', 'fieldName': 'Collection Number', 'dictionaryLink': 'https://www.usgs.gov/centers/eros/science/landsat-collection-2-data-dictionary#collection_number', 'value': 2}, {'id': '5e83d150f4611699', 'fieldName': 'LR_LAT', 'dictionaryLink': '', 'value': '6.17444'}, {'id': '5e83d15032309cc', 'fieldName': 'LR_LON', 'dictionaryLink': '', 'value': '5.96344'}, {'id': '5e83d150c5fce627', 'fieldName': 'WRS Path', 'dictionaryLink': 'https://www.usgs.gov/centers/eros/science/landsat-collection-2-data-dictionary#wrs_path', 'value': ' 190'}, {'id': '5e83d15051254e26', 'fieldName': 'WRS Path', 'dictionaryLink': 'https://www.usgs.gov/centers/eros/science/landsat-collection-2-data-dictionary#wrs_path', 'value': ' 190'}, {'id': '5e83d15010ff4269', 'fieldName': 'WRS Row', 'dictionaryLink': 'https://www.usgs.gov/centers/eros/science/landsat-collection-2-data-dictionary#wrs_row', 'value': ' 055'}, {'id': '5e83d15038163a68', 'fieldName': 'WRS Row', 'dictionaryLink': 'https://www.usgs.gov/centers/eros/science/landsat-collection-2-data-dictionary#wrs_row', 'value': ' 055'}, {'id': '5e83d1502e68c66b', 'fieldName': 'LL_LAT', 'dictionaryLink': '', 'value': '6.18191'}, {'id': '5e83d1506e87d9e0', 'fieldName': 'LL_LON', 'dictionaryLink': '', 'value': '3.91470'}, {'id': '5e83d150ffeec8d0', 'fieldName': 'Target WRS Path', 'dictionaryLink': 'https://www.usgs.gov/centers/eros/science/landsat-collection-2-data-dictionary#target_wrs_path', 'value': ' 190'}, {'id': '5e83d150bddae01b', 'fieldName': 'Target WRS Path', 'dictionaryLink': 'https://www.usgs.gov/centers/eros/science/landsat-collection-2-data-dictionary#target_wrs_path', 'value': ' 190'}, {'id': '5e83d150a767eea0', 'fieldName': 'Target WRS Row', 'dictionaryLink': 'https://www.usgs.gov/centers/eros/science/landsat-collection-2-data-dictionary#target_wrs_row', 'value': ' 055'}, {'id': '5e83d1501e4df49f', 'fieldName': 'Target WRS Row', 'dictionaryLink': 'https://www.usgs.gov/centers/eros/science/landsat-collection-2-data-dictionary#target_wrs_row', 'value': ' 055'}, {'id': '5e83d1501897a274', 'fieldName': 'CENTER_LAT', 'dictionaryLink': '', 'value': '7.23140'}, {'id': '5e83d150300e822c', 'fieldName': 'CENTER_LON', 'dictionaryLink': '', 'value': '4.94398'}, {'id': '5e83d15018b402df', 'fieldName': 'Nadir/Off Nadir', 'dictionaryLink': 'https://www.usgs.gov/centers/eros/science/landsat-collection-2-data-dictionary#nadir_offnadir', 'value': 'NADIR'}, {'id': '5e83d150e2fd5f4f', 'fieldName': 'Nadir/Off Nadir', 'dictionaryLink': 'https://www.usgs.gov/centers/eros/science/landsat-collection-2-data-dictionary#nadir_offnadir', 'value': 'NADIR'}, {'id': '5e83d150fb6139f7', 'fieldName': 'Roll Angle', 'dictionaryLink': 'https://www.usgs.gov/centers/eros/science/landsat-collection-2-data-dictionary#roll_angle', 'value': '  -0.001'}, {'id': '5e83d15099febb12', 'fieldName': 'Roll Angle', 'dictionaryLink': 'https://www.usgs.gov/centers/eros/science/landsat-collection-2-data-dictionary#roll_angle', 'value': '  -0.001'}, {'id': '5e83d1501194d942', 'fieldName': 'ACQ_DATE', 'dictionaryLink': '', 'value': '2024/12/25'}, {'id': '5e83d150c30a55d2', 'fieldName': 'WRS_PATH', 'dictionaryLink': '', 'value': 190}, {'id': '5e83d1505a0b9dca', 'fieldName': 'Date Product Generated L2', 'dictionaryLink': 'https://www.usgs.gov/centers/eros/science/landsat-collection-2-data-dictionary#date_l2_generated', 'value': '2024/12/28'}, {'id': '5e83d15087522c26', 'fieldName': 'Date Product Generated L2', 'dictionaryLink': 'https://www.usgs.gov/centers/eros/science/landsat-collection-2-data-dictionary#date_l2_generated', 'value': '2024/12/28'}, {'id': '5e83d15055574254', 'fieldName': 'Date Product Generated L1', 'dictionaryLink': 'https://www.usgs.gov/centers/eros/science/landsat-collection-2-data-dictionary#date_l1_generated', 'value': '2024/12/28'}, {'id': '5e83d150bd846fbd', 'fieldName': 'Date Product Generated L1', 'dictionaryLink': 'https://www.usgs.gov/centers/eros/science/landsat-collection-2-data-dictionary#date_l1_generated', 'value': '2024/12/28'}, {'id': '5e83d15028ce7f0f', 'fieldName': 'WRS_ROW', 'dictionaryLink': '', 'value': 55}, {'id': '5e83d150f3ba8369', 'fieldName': 'Start Time', 'dictionaryLink': 'https://www.usgs.gov/centers/eros/science/landsat-collection-2-data-dictionary#start_time', 'value': '2024-12-25 09:56:32'}, {'id': '5e83d15047fabe05', 'fieldName': 'Start Time', 'dictionaryLink': 'https://www.usgs.gov/centers/eros/science/landsat-collection-2-data-dictionary#start_time', 'value': '2024-12-25 09:56:32'}, {'id': '5e83d1506939e64b', 'fieldName': 'Stop Time', 'dictionaryLink': 'https://www.usgs.gov/centers/eros/science/landsat-collection-2-data-dictionary#stop_time', 'value': '2024-12-25 09:57:04'}, {'id': '5e83d150f4672a74', 'fieldName': 'Stop Time', 'dictionaryLink': 'https://www.usgs.gov/centers/eros/science/landsat-collection-2-data-dictionary#stop_time', 'value': '2024-12-25 09:57:04'}, {'id': '5e83d15062d91c10', 'fieldName': 'Station Identifier', 'dictionaryLink': 'https://www.usgs.gov/centers/eros/science/landsat-collection-2-data-dictionary#distribution_site', 'value': 'LGN'}, {'id': '5e83d150852a8757', 'fieldName': 'Station Identifier', 'dictionaryLink': 'https://www.usgs.gov/centers/eros/science/landsat-collection-2-data-dictionary#distribution_site', 'value': 'LGN'}, {'id': '5e83d150b4879ac5', 'fieldName': 'Day/Night Indicator', 'dictionaryLink': 'https://www.usgs.gov/centers/eros/science/landsat-collection-2-data-dictionary#day_or_night', 'value': 'DAY'}, {'id': '5e83d150f456ceeb', 'fieldName': 'Day/Night Indicator', 'dictionaryLink': 'https://www.usgs.gov/centers/eros/science/landsat-collection-2-data-dictionary#day_or_night', 'value': 'DAY'}, {'id': '5e83d1505e834abb', 'fieldName': 'Land Cloud Cover', 'dictionaryLink': 'https://www.usgs.gov/centers/eros/science/landsat-collection-2-data-dictionary#cloud_cover_land', 'value': '   0.40'}, {'id': '5e83d150f4c88f82', 'fieldName': 'Land Cloud Cover', 'dictionaryLink': 'https://www.usgs.gov/centers/eros/science/landsat-collection-2-data-dictionary#cloud_cover_land', 'value': '   0.40'}, {'id': '5e83d150542b5637', 'fieldName': 'Scene Cloud Cover L1', 'dictionaryLink': 'https://www.usgs.gov/centers/eros/science/landsat-collection-2-data-dictionary#cloud_cover', 'value': '   0.40'}, {'id': '5e83d15033ee57bd', 'fieldName': 'Scene Cloud Cover L1', 'dictionaryLink': 'https://www.usgs.gov/centers/eros/science/landsat-collection-2-data-dictionary#cloud_cover', 'value': '   0.40'}, {'id': '5e83d15049487c8d', 'fieldName': 'Ground Control Points Model', 'dictionaryLink': 'https://www.usgs.gov/centers/eros/science/landsat-collection-2-data-dictionary#ground_control_points_model', 'value': 593}, {'id': '5e83d15056c0abfc', 'fieldName': 'Ground Control Points Model', 'dictionaryLink': 'https://www.usgs.gov/centers/eros/science/landsat-collection-2-data-dictionary#ground_control_points_model', 'value': 593}, {'id': '5e83d150f80b5332', 'fieldName': 'Ground Control Points Version', 'dictionaryLink': 'https://www.usgs.gov/centers/eros/science/landsat-collection-2-data-dictionary#ground_control_points_version', 'value': 5}, {'id': '5e83d1509642af3f', 'fieldName': 'Ground Control Points Version', 'dictionaryLink': 'https://www.usgs.gov/centers/eros/science/landsat-collection-2-data-dictionary#ground_control_points_version', 'value': 5}, {'id': '5e83d15013028801', 'fieldName': 'Geometric RMSE Model', 'dictionaryLink': 'https://www.usgs.gov/centers/eros/science/landsat-collection-2-data-dictionary#geometric_rmse_model', 'value': '    6.951'}, {'id': '5e83d15010dcb0b7', 'fieldName': 'Geometric RMSE Model', 'dictionaryLink': 'https://www.usgs.gov/centers/eros/science/landsat-collection-2-data-dictionary#geometric_rmse_model', 'value': '    6.951'}, {'id': '5e83d150de0b9e3f', 'fieldName': 'Geometric RMSE Model X', 'dictionaryLink': 'https://www.usgs.gov/centers/eros/science/landsat-collection-2-data-dictionary#geometric_rmse_model_x', 'value': '    4.813'}, {'id': '5e83d150e95bccd6', 'fieldName': 'Geometric RMSE Model X', 'dictionaryLink': 'https://www.usgs.gov/centers/eros/science/landsat-collection-2-data-dictionary#geometric_rmse_model_x', 'value': '    4.813'}, {'id': '5e83d15061ec8b95', 'fieldName': 'Geometric RMSE Model Y', 'dictionaryLink': 'https://www.usgs.gov/centers/eros/science/landsat-collection-2-data-dictionary#geometric_rmse_model_y', 'value': '    5.015'}, {'id': '5e83d15046f51c13', 'fieldName': 'Geometric RMSE Model Y', 'dictionaryLink': 'https://www.usgs.gov/centers/eros/science/landsat-collection-2-data-dictionary#geometric_rmse_model_y', 'value': '    5.015'}, {'id': '6745d91856f14e5a', 'fieldName': 'Image Quality', 'dictionaryLink': 'https://www.usgs.gov/centers/eros/science/landsat-collection-2-data-dictionary#image_quality_landsat_8-9', 'value': 9}, {'id': '5e83d1506df2085b', 'fieldName': 'Processing Software Version', 'dictionaryLink': 'https://www.usgs.gov/centers/eros/science/landsat-collection-2-data-dictionary#processing_software_version', 'value': 'LPGS_16.4.0'}, {'id': '5e83d15046f09a42', 'fieldName': 'Processing Software Version', 'dictionaryLink': 'https://www.usgs.gov/centers/eros/science/landsat-collection-2-data-dictionary#processing_software_version', 'value': 'LPGS_16.4.0'}, {'id': '5e83d1504c08a527', 'fieldName': 'Sun Elevation L0RA', 'dictionaryLink': 'https://www.usgs.gov/centers/eros/science/landsat-collection-2-data-dictionary#sun_elevation_lora', 'value': '50.27536003'}, {'id': '5e83d1506fa5f4d6', 'fieldName': 'Sun Elevation L0RA', 'dictionaryLink': 'https://www.usgs.gov/centers/eros/science/landsat-collection-2-data-dictionary#sun_elevation_lora', 'value': '50.27536003'}, {'id': '5e83d1508e21f8b2', 'fieldName': 'Sun Azimuth L0RA', 'dictionaryLink': 'https://www.usgs.gov/centers/eros/science/landsat-collection-2-data-dictionary#sun_azimuth_lora', 'value': '141.12346127'}, {'id': '5e83d15043371d7a', 'fieldName': 'Sun Azimuth L0RA', 'dictionaryLink': 'https://www.usgs.gov/centers/eros/science/landsat-collection-2-data-dictionary#sun_azimuth_lora', 'value': '141.12346127'}, {'id': '5e83d1508920c3cc', 'fieldName': 'TIRS SSM Model', 'dictionaryLink': 'https://www.usgs.gov/centers/eros/science/landsat-collection-2-data-dictionary#tirs_ssm_model', 'value': 'FINAL'}, {'id': '5e83d1507cc08b86', 'fieldName': 'TIRS SSM Model', 'dictionaryLink': 'https://www.usgs.gov/centers/eros/science/landsat-collection-2-data-dictionary#tirs_ssm_model', 'value': 'FINAL'}, {'id': '5e83d1507fcff203', 'fieldName': 'Data Type L2', 'dictionaryLink': 'https://www.usgs.gov/centers/eros/science/landsat-collection-2-data-dictionary#data_type_21', 'value': 'OLI_TIRS_L2SP'}, {'id': '5e83d150ddaa73a1', 'fieldName': 'Data Type L2', 'dictionaryLink': 'https://www.usgs.gov/centers/eros/science/landsat-collection-2-data-dictionary#data_type_l2', 'value': 'OLI_TIRS_L2SP'}, {'id': '5e83d150a5bb956b', 'fieldName': 'Sensor Identifier', 'dictionaryLink': 'https://www.usgs.gov/centers/eros/science/landsat-collection-2-data-dictionary#sensor_id', 'value': 'OLI_TIRS'}, {'id': '5e83d15026284c81', 'fieldName': 'Sensor Identifier', 'dictionaryLink': 'https://www.usgs.gov/centers/eros/science/landsat-collection-2-data-dictionary#sensor_id', 'value': 'OLI_TIRS'}, {'id': '5e83d150406c80e7', 'fieldName': 'Satellite', 'dictionaryLink': 'https://www.usgs.gov/centers/eros/science/landsat-collection-2-data-dictionary#satellite', 'value': 8}, {'id': '5e83d150407d262', 'fieldName': 'Satellite', 'dictionaryLink': 'https://www.usgs.gov/centers/eros/science/landsat-collection-2-data-dictionary#satellite', 'value': 8}, {'id': '5e83d150b7ec490f', 'fieldName': 'Product Map Projection L1', 'dictionaryLink': 'https://www.usgs.gov/centers/eros/science/landsat-collection-2-data-dictionary#map_projection_l1', 'value': 'UTM'}, {'id': '5e83d1501d32dbd1', 'fieldName': 'Product Map Projection L1', 'dictionaryLink': 'https://www.usgs.gov/centers/eros/science/landsat-collection-2-data-dictionary#map_projection_l1', 'value': 'UTM'}, {'id': '5e83d15061b00844', 'fieldName': 'UTM Zone', 'dictionaryLink': 'https://www.usgs.gov/centers/eros/science/landsat-collection-2-data-dictionary#utm_zone', 'value': 31}, {'id': '5e83d15057c7634', 'fieldName': 'UTM Zone', 'dictionaryLink': 'https://www.usgs.gov/centers/eros/science/landsat-collection-2-data-dictionary#utm_zone', 'value': 31}, {'id': '5e83d150a471f366', 'fieldName': 'Datum', 'dictionaryLink': 'https://www.usgs.gov/centers/eros/science/landsat-collection-2-data-dictionary#datum', 'value': 'WGS84'}, {'id': '5e83d1507494065b', 'fieldName': 'Datum', 'dictionaryLink': 'https://www.usgs.gov/centers/eros/science/landsat-collection-2-data-dictionary#datum', 'value': 'WGS84'}, {'id': '5e83d15076f7bea3', 'fieldName': 'Ellipsoid', 'dictionaryLink': 'https://www.usgs.gov/centers/eros/science/landsat-collection-2-data-dictionary#ellipsoid', 'value': 'WGS84'}, {'id': '5e83d1506ec819cc', 'fieldName': 'Ellipsoid', 'dictionaryLink': 'https://www.usgs.gov/centers/eros/science/landsat-collection-2-data-dictionary#ellipsoid', 'value': 'WGS84'}, {'id': '5e83d150ca952f3f', 'fieldName': 'Scene Center Lat DMS', 'dictionaryLink': 'https://www.usgs.gov/centers/eros/science/landsat-collection-2-data-dictionary#coordinates_degrees', 'value': '7&deg;13\\'53.04\"N'}, {'id': '5e83d150f2b3270f', 'fieldName': 'Scene Center Lat DMS', 'dictionaryLink': 'https://www.usgs.gov/centers/eros/science/landsat-collection-2-data-dictionary#coordinates_degrees', 'value': '7&deg;13\\'53.04\"N'}, {'id': '5e83d15018a41b32', 'fieldName': 'Scene Center Long DMS', 'dictionaryLink': 'https://www.usgs.gov/centers/eros/science/landsat-collection-2-data-dictionary#coordinates_degrees', 'value': '4&deg;56\\'38.33\"E'}, {'id': '5e83d1505841f4fe', 'fieldName': 'Scene Center Long DMS', 'dictionaryLink': 'https://www.usgs.gov/centers/eros/science/landsat-collection-2-data-dictionary#coordinates_degrees', 'value': '4&deg;56\\'38.33\"E'}, {'id': '5e83d15038977db8', 'fieldName': 'Corner Upper Left Lat DMS', 'dictionaryLink': 'https://www.usgs.gov/centers/eros/science/landsat-collection-2-data-dictionary#coordinates_degrees', 'value': '8&deg;16\\'45.73\"N'}, {'id': '5e83d150de243677', 'fieldName': 'Corner Upper Left Lat DMS', 'dictionaryLink': 'https://www.usgs.gov/centers/eros/science/landsat-collection-2-data-dictionary#coordinates_degrees', 'value': '8&deg;16\\'45.73\"N'}, {'id': '5e83d15062c4eaff', 'fieldName': 'Corner Upper Left Long DMS', 'dictionaryLink': 'https://www.usgs.gov/centers/eros/science/landsat-collection-2-data-dictionary#coordinates_degrees', 'value': '3&deg;55\\'08.18\"E'}, {'id': '5e83d15065863aa0', 'fieldName': 'Corner Upper Left Long DMS', 'dictionaryLink': 'https://www.usgs.gov/centers/eros/science/landsat-collection-2-data-dictionary#coordinates_degrees', 'value': '3&deg;55\\'08.18\"E'}, {'id': '5e83d150d64cb217', 'fieldName': 'Corner Upper Right Lat DMS', 'dictionaryLink': 'https://www.usgs.gov/centers/eros/science/landsat-collection-2-data-dictionary#coordinates_degrees', 'value': '8&deg;16\\'09.62\"N'}, {'id': '5e83d1503db387e3', 'fieldName': 'Corner Upper Right Lat DMS', 'dictionaryLink': 'https://www.usgs.gov/centers/eros/science/landsat-collection-2-data-dictionary#coordinates_degrees', 'value': '8&deg;16\\'09.62\"N'}, {'id': '5e83d150d90b41b1', 'fieldName': 'Corner Upper Right Long DMS', 'dictionaryLink': 'https://www.usgs.gov/centers/eros/science/landsat-collection-2-data-dictionary#coordinates_degrees', 'value': '5&deg;58\\'37.63\"E'}, {'id': '5e83d15020c8dbc3', 'fieldName': 'Corner Upper Right Long DMS', 'dictionaryLink': 'https://www.usgs.gov/centers/eros/science/landsat-collection-2-data-dictionary#coordinates_degrees', 'value': '5&deg;58\\'37.63\"E'}, {'id': '5e83d1508aa01290', 'fieldName': 'Corner Lower Left Lat DMS', 'dictionaryLink': 'https://www.usgs.gov/centers/eros/science/landsat-collection-2-data-dictionary#coordinates_degrees', 'value': '6&deg;10\\'54.88\"N'}, {'id': '5e83d1508b634ef5', 'fieldName': 'Corner Lower Left Lat DMS', 'dictionaryLink': 'https://www.usgs.gov/centers/eros/science/landsat-collection-2-data-dictionary#coordinates_degrees', 'value': '6&deg;10\\'54.88\"N'}, {'id': '5e83d1505d0f53ea', 'fieldName': 'Corner Lower Left Long DMS', 'dictionaryLink': 'https://www.usgs.gov/centers/eros/science/landsat-collection-2-data-dictionary#coordinates_degrees', 'value': '3&deg;54\\'52.92\"E'}, {'id': '5e83d150d10c4feb', 'fieldName': 'Corner Lower Left Long DMS', 'dictionaryLink': 'https://www.usgs.gov/centers/eros/science/landsat-collection-2-data-dictionary#coordinates_degrees', 'value': '3&deg;54\\'52.92\"E'}, {'id': '5e83d150a375b702', 'fieldName': 'Corner Lower Right Lat DMS', 'dictionaryLink': 'https://www.usgs.gov/centers/eros/science/landsat-collection-2-data-dictionary#coordinates_degrees', 'value': '6&deg;10\\'27.98\"N'}, {'id': '5e83d150a2df301e', 'fieldName': 'Corner Lower Right Lat DMS', 'dictionaryLink': 'https://www.usgs.gov/centers/eros/science/landsat-collection-2-data-dictionary#coordinates_degrees', 'value': '6&deg;10\\'27.98\"N'}, {'id': '5e83d150f86debf3', 'fieldName': 'Corner Lower Right Long DMS', 'dictionaryLink': 'https://www.usgs.gov/centers/eros/science/landsat-collection-2-data-dictionary#coordinates_degrees', 'value': '5&deg;57\\'48.38\"E'}, {'id': '5e83d1508fa8a14f', 'fieldName': 'Corner Lower Right Long DMS', 'dictionaryLink': 'https://www.usgs.gov/centers/eros/science/landsat-collection-2-data-dictionary#coordinates_degrees', 'value': '5&deg;57\\'48.38\"E'}, {'id': '5e83d150c75e6472', 'fieldName': 'Scene Center Latitude', 'dictionaryLink': 'https://www.usgs.gov/centers/eros/science/landsat-collection-2-data-dictionary#coordinates_decimal', 'value': '  7.23140'}, {'id': '5e83d1502ae838fe', 'fieldName': 'Scene Center Latitude', 'dictionaryLink': 'https://www.usgs.gov/centers/eros/science/landsat-collection-2-data-dictionary#coordinates_decimal', 'value': '  7.23140'}, {'id': '5e83d1502b51ab3e', 'fieldName': 'Scene Center Longitude', 'dictionaryLink': 'https://www.usgs.gov/centers/eros/science/landsat-collection-2-data-dictionary#coordinates_decimal', 'value': '   4.94398'}, {'id': '5e83d150fe6955f6', 'fieldName': 'Scene Center Longitude', 'dictionaryLink': 'https://www.usgs.gov/centers/eros/science/landsat-collection-2-data-dictionary#coordinates_decimal', 'value': '   4.94398'}, {'id': '5e83d1502c8e19f8', 'fieldName': 'Corner Upper Left Latitude', 'dictionaryLink': 'https://www.usgs.gov/centers/eros/science/landsat-collection-2-data-dictionary#coordinates_decimal', 'value': '  8.27937'}, {'id': '5e83d15097cdc7e8', 'fieldName': 'Corner Upper Left Latitude', 'dictionaryLink': 'https://www.usgs.gov/centers/eros/science/landsat-collection-2-data-dictionary#coordinates_decimal', 'value': '  8.27937'}, {'id': '5e83d15032f89801', 'fieldName': 'Corner Upper Left Longitude', 'dictionaryLink': 'https://www.usgs.gov/centers/eros/science/landsat-collection-2-data-dictionary#coordinates_decimal', 'value': '   3.91894'}, {'id': '5e83d150dbcfab16', 'fieldName': 'Corner Upper Left Longitude', 'dictionaryLink': 'https://www.usgs.gov/centers/eros/science/landsat-collection-2-data-dictionary#coordinates_decimal', 'value': '   3.91894'}, {'id': '5e83d1507d629060', 'fieldName': 'Originator', 'dictionaryLink': '', 'value': 'U.S. Geological Survey (USGS) Earth Resources Observation and Science (EROS) Center'}, {'id': '5e83d1504bcee2ff', 'fieldName': 'Corner Upper Right Latitude', 'dictionaryLink': 'https://www.usgs.gov/centers/eros/science/landsat-collection-2-data-dictionary#coordinates_decimal', 'value': '  8.26934'}, {'id': '5e83d150109a3882', 'fieldName': 'Corner Upper Right Latitude', 'dictionaryLink': 'https://www.usgs.gov/centers/eros/science/landsat-collection-2-data-dictionary#coordinates_decimal', 'value': '  8.26934'}, {'id': '5e83d150f456eb5', 'fieldName': 'Corner Upper Right Longitude', 'dictionaryLink': 'https://www.usgs.gov/centers/eros/science/landsat-collection-2-data-dictionary#coordinates_decimal', 'value': '   5.97712'}, {'id': '5e83d150b66c37e6', 'fieldName': 'Corner Upper Right Longitude', 'dictionaryLink': 'https://www.usgs.gov/centers/eros/science/landsat-collection-2-data-dictionary#coordinates_decimal', 'value': '   5.97712'}, {'id': '5e83d1509a3dc0e0', 'fieldName': 'Corner Lower Left Latitude', 'dictionaryLink': 'https://www.usgs.gov/centers/eros/science/landsat-collection-2-data-dictionary#coordinates_decimal', 'value': '  6.18191'}, {'id': '5e83d1508c0a2dcc', 'fieldName': 'Corner Lower Left Latitude', 'dictionaryLink': 'https://www.usgs.gov/centers/eros/science/landsat-collection-2-data-dictionary#coordinates_decimal', 'value': '  6.18191'}, {'id': '5e83d1505be6007d', 'fieldName': 'Corner Lower Left Longitude', 'dictionaryLink': 'https://www.usgs.gov/centers/eros/science/landsat-collection-2-data-dictionary#coordinates_decimal', 'value': '   3.91470'}, {'id': '5e83d150b01bff83', 'fieldName': 'Corner Lower Left Longitude', 'dictionaryLink': 'https://www.usgs.gov/centers/eros/science/landsat-collection-2-data-dictionary#coordinates_decimal', 'value': '   3.91470'}, {'id': '5e83d150b70ab7fd', 'fieldName': 'Corner Lower Right Latitude', 'dictionaryLink': 'https://www.usgs.gov/centers/eros/science/landsat-collection-2-data-dictionary#coordinates_decimal', 'value': '  6.17444'}, {'id': '5e83d1509a3a73e0', 'fieldName': 'Corner Lower Right Latitude', 'dictionaryLink': 'https://www.usgs.gov/centers/eros/science/landsat-collection-2-data-dictionary#coordinates_decimal', 'value': '  6.17444'}, {'id': '5e83d15038ccf2f', 'fieldName': 'Corner Lower Right Longitude', 'dictionaryLink': 'https://www.usgs.gov/centers/eros/science/landsat-collection-2-data-dictionary#coordinates_decimal', 'value': '   5.96344'}, {'id': '5e83d150170606d', 'fieldName': 'Corner Lower Right Longitude', 'dictionaryLink': 'https://www.usgs.gov/centers/eros/science/landsat-collection-2-data-dictionary#coordinates_decimal', 'value': '   5.96344'}, {'id': '5e83d150cdf149b4', 'fieldName': 'Publication_Date', 'dictionaryLink': '', 'value': '2013'}, {'id': '5e83d150c558cfc2', 'fieldName': 'Title', 'dictionaryLink': '', 'value': 'LANDSAT 8-9 OLI/TIRS Collection 2 - Path:  190 Row:  55 for Scene:  LC08_L2SP_190055_20241225_20241228_02_T1'}, {'id': '5e83d1502bb1e720', 'fieldName': 'Geospatial_Data_Presentation_Form', 'dictionaryLink': '', 'value': 'Remote-Sensing Image'}, {'id': '5e83d1509645e490', 'fieldName': 'Publication_Place', 'dictionaryLink': '', 'value': 'Sioux Falls, South Dakota, USA'}, {'id': '5e83d1509fe48a78', 'fieldName': 'Publisher', 'dictionaryLink': '', 'value': 'U.S. Geological Survey (USGS) Earth Resources Observation and Science (EROS) Center'}, {'id': '5e83d1507f3f1720', 'fieldName': 'Online_Linkage', 'dictionaryLink': '', 'value': 'https://doi.org/10.5066/P9OGBGM6'}, {'id': '5e83d150a8e76b9d', 'fieldName': 'Abstract', 'dictionaryLink': '', 'value': 'The USGS Earth Resources Observation and Science (EROS) Center archive holds data collected by the Landsat suite of satellites, beginning with Landsat 1 in 1972 through the latest Landsat Mission.'}, {'id': '5e83d150e2346446', 'fieldName': 'Purpose', 'dictionaryLink': '', 'value': \"The Landsat archive provides a rich collection of information about the Earth's land surface.  Major characteristics of changes to the surface of the planet can be detected, measured, and analyzed using Landsat data.  The information obtainable from the historical and current Landsat data play a key role in studying surface changes through time.\"}, {'id': '5e83d150c640cd98', 'fieldName': 'Supplemental_Information', 'dictionaryLink': '', 'value': \"Landsat represents the world's longest continuously acquired collection of space-based moderate-resolution land remote sensing data. As a joint initiative between the U.S. Geological Survey (USGS) and the National Aeronautical Space Administration (NASA), the Landsat Project and the data it collects support government, commercial, industrial, civilian, military, and educational communities throughout the United States and world. Landsat 8 Operational Land Imager (OLI)/Thermal Infrared Sensor (TIRS) Collection 2 provides a quality-controlled selection of radiometrically calibrated and consistently geolocated data; particular geodetic accuracy and error tolerances are specified to align pixels for time series analysis through the full Landsat record. (https://www.usgs.gov/core-science-systems/nli/landsat/landsat-collections)\"}, {'id': '5e83d150306b0ea', 'fieldName': 'Calendar_Date', 'dictionaryLink': '', 'value': '20241225'}, {'id': '5e83d1508e7a5c9e', 'fieldName': 'Beginning_Date', 'dictionaryLink': '', 'value': 'Start of Sensor'}, {'id': '5e83d15033fef1de', 'fieldName': 'Ending_Date', 'dictionaryLink': '', 'value': 'Present'}, {'id': '5e83d150883893a', 'fieldName': 'Currentness_Reference', 'dictionaryLink': '', 'value': 'Ground Condition'}, {'id': '5e83d150db09acb2', 'fieldName': 'Progress', 'dictionaryLink': '', 'value': 'In Work'}, {'id': '5e83d1502504af38', 'fieldName': 'Maintenance_and_Update_Frequency', 'dictionaryLink': '', 'value': 'Continually'}, {'id': '5e83d1501d1df8b', 'fieldName': 'G-Ring_Latitude', 'dictionaryLink': '', 'value': '6.18191'}, {'id': '5e83d150d61422f0', 'fieldName': 'G-Ring_Longitude', 'dictionaryLink': '', 'value': '3.91470'}, {'id': '5e83d15047bb5f63', 'fieldName': 'Theme_Keyword_Thesaurus', 'dictionaryLink': '', 'value': 'ISO 19115 Topic Category'}, {'id': '5e83d150e07a736', 'fieldName': 'Theme_Keyword', 'dictionaryLink': '', 'value': 'ImageryBaseMapsEarthCover'}, {'id': '604704409b7dda23', 'fieldName': 'Theme_Keyword', 'dictionaryLink': '', 'value': 'Visible Wavelengths'}, {'id': '604704401b9dbab3', 'fieldName': 'Theme_Keyword', 'dictionaryLink': '', 'value': 'Earth Science'}, {'id': '6047044046d5c34d', 'fieldName': 'Theme_Keyword', 'dictionaryLink': '', 'value': 'Infrared Wavelengths'}, {'id': '6047044039a24fc5', 'fieldName': 'Theme_Keyword', 'dictionaryLink': '', 'value': 'Infrared Imagery'}, {'id': '604704409a6cf783', 'fieldName': 'Theme_Keyword', 'dictionaryLink': '', 'value': 'Imagery '}, {'id': '60470440485ac64d', 'fieldName': 'Theme_Keyword', 'dictionaryLink': '', 'value': 'Earth Resources Observation and Science (EROS) Center'}, {'id': '604704409912e907', 'fieldName': 'Theme_Keyword', 'dictionaryLink': '', 'value': 'Coastal Aerosol '}, {'id': '6047044070d181ea', 'fieldName': 'Theme_Keyword', 'dictionaryLink': '', 'value': 'Visible Imagery'}, {'id': '604704409fc4859', 'fieldName': 'Theme_Keyword', 'dictionaryLink': '', 'value': 'U.S. Geological Survey (USGS)'}, {'id': '6047044064c88fef', 'fieldName': 'Theme_Keyword', 'dictionaryLink': '', 'value': 'Thermal Infrared Sensor (TIRS)'}, {'id': '604704407b93f93c', 'fieldName': 'Theme_Keyword', 'dictionaryLink': '', 'value': 'Landsat 8-9 Collection 2'}, {'id': '604704409dbe7b7d', 'fieldName': 'Theme_Keyword', 'dictionaryLink': '', 'value': 'Operational Land Imager (OLI)'}, {'id': '604704403bdff023', 'fieldName': 'Theme_Keyword', 'dictionaryLink': '', 'value': 'Radiance'}, {'id': '6047044042fc4d11', 'fieldName': 'Theme_Keyword', 'dictionaryLink': '', 'value': 'Remote Sensing'}, {'id': '604704405bc79642', 'fieldName': 'Theme_Keyword', 'dictionaryLink': '', 'value': 'Satellite'}, {'id': '5e83d150d4a634d4', 'fieldName': 'Place_Keyword_Thesaurus', 'dictionaryLink': '', 'value': 'U.S. Department of Commerce, 1995, Countries, dependencies, areas of special sovereignty, and their principal administrative divisions, Federal Information Processing Standard 10-4, Washington, D.C., National Institute of Standards and Technology'}, {'id': '5e83d15058ea746', 'fieldName': 'Place_Keyword', 'dictionaryLink': '', 'value': 'Asia'}, {'id': '5e83d1501dd50e1f', 'fieldName': 'Access_Constraints', 'dictionaryLink': '', 'value': 'Downloading and using these data signifies that the user comprehends and will comply with the USGS Privacy Policy.  Reading and understanding all portions of the metadata will protect the interests of both the user and the USGS. Please refer to https://www.usgs.gov/privacy.html.'}, {'id': '5e83d1506d101938', 'fieldName': 'Use_Constraints', 'dictionaryLink': '', 'value': 'There is no guarantee of warranty concerning the accuracy of these data. Users should not use these data for critical applications without a full awareness of their limitations. Temporal changes may have occurred since the data were collected and some parts of these data may no longer represent actual surface conditions.  There are no restrictions regarding the use of Landsat data distributed by the U.S. Geological Survey (USGS), unless expressly identified prior to or at the time of receipt. For Landsat, we request the following statement be used: Data available from the U.S. Geological Survey. Please refer to https://www.usgs.gov/centers/eros/data-citation for more information on data citation.'}, {'id': '5e83d150360ec5f8', 'fieldName': 'Contact_Person', 'dictionaryLink': '', 'value': 'custserv@usgs.gov'}, {'id': '5e83d15043f2e0d2', 'fieldName': 'Contact_Organization', 'dictionaryLink': '', 'value': 'U.S. Geological Survey (USGS) Earth Resources Observation and Science (EROS) Center'}, {'id': '5e83d1506d204f1c', 'fieldName': 'Contact_Position', 'dictionaryLink': '', 'value': 'Customer Service Representative'}, {'id': '5e83d1502f261ce1', 'fieldName': 'Address_Type', 'dictionaryLink': '', 'value': 'Mailing and Physical Address'}, {'id': '5e83d150db7a9c49', 'fieldName': 'Address', 'dictionaryLink': '', 'value': 'U.S. Geological Survey (USGS) Earth Resources Observation and Science (EROS) Center 47914 252nd Street'}, {'id': '5e83d1504964b8c', 'fieldName': 'City', 'dictionaryLink': '', 'value': 'Sioux Falls'}, {'id': '5e83d150e4408ea2', 'fieldName': 'State_or_Province', 'dictionaryLink': '', 'value': 'SD'}, {'id': '5e83d150dc5dfeee', 'fieldName': 'Postal_Code', 'dictionaryLink': '', 'value': '57198-0001'}, {'id': '5e83d15012c96237', 'fieldName': 'Country', 'dictionaryLink': '', 'value': 'USA'}, {'id': '5e83d150ed1d0d4c', 'fieldName': 'Contact_Electronic_Mail_Address', 'dictionaryLink': '', 'value': 'custserv@usgs.gov'}, {'id': '5e83d1509fb42831', 'fieldName': 'Hours_of_Service', 'dictionaryLink': '', 'value': '0800 - 1600 CT, M-F, 1400 - 2200 h GMT'}, {'id': '5e83d150e850fdc0', 'fieldName': 'Contact_Instructions', 'dictionaryLink': '', 'value': 'custserv@usgs.gov'}, {'id': '5e83d150f18d950', 'fieldName': 'Browse_Graphic_File_Name', 'dictionaryLink': '', 'value': 'Not Available'}, {'id': '5e83d150982de3f5', 'fieldName': 'Browse_Graphic_File_Description', 'dictionaryLink': '', 'value': 'This is a compressed and resampled version of the Landsat image to help validate area of interest, data quality, and the impact of cloud cover, if it exists.'}, {'id': '5e83d1506c9964f1', 'fieldName': 'Browse_Graphic_File_Type', 'dictionaryLink': '', 'value': 'JPEG'}, {'id': '5e83d150c3446f62', 'fieldName': 'Data_Set_Credit', 'dictionaryLink': '', 'value': 'The Landsat Program, as defined by Congress in 1992 and amended by Presidential Decision Directive/NSTC-3 in May 1994, is managed cooperatively by the NASA and the USGS.  Responsibility for construction of the spacecraft and instrument lies with NASA. The Landsat Program is part of NASA\\'s Earth Observing System, a global change initiative administered by NASA\\'s Earth Science Enterprise.  Data processing, archiving, and distribution are performed by the USGS. The primary ground station, the data handling facility and archive are located at the USGS Earth Resources Observation and Science (EROS) Center in Sioux Falls, SD. The following statement should be used when citing, copying, or reprinting Landsat imagery or data: Data available from the U.S. Geological Survey. The USGS Visual Identity System Guidance webpage (\\\\\"Acknowledging or Crediting USGS as Information Source\\\\\") provides additional details:  https://www.usgs.gov/information-policies-and-instructions/copyrights-and-credits.'}, {'id': '5e83d15028634603', 'fieldName': 'Security_Classification_System', 'dictionaryLink': '', 'value': 'None'}, {'id': '5e83d150a5d28a23', 'fieldName': 'Security_Classification', 'dictionaryLink': '', 'value': 'Unclassified'}, {'id': '5e83d1506c44268b', 'fieldName': 'Security_Handling_Description', 'dictionaryLink': '', 'value': 'None'}, {'id': '5e83d150561e4833', 'fieldName': 'Native_Data_Set_Environment', 'dictionaryLink': '', 'value': 'Oracle'}, {'id': '5e83d15051b972c7', 'fieldName': 'Originator', 'dictionaryLink': '', 'value': 'U.S. Geological Survey (USGS) Earth Resources Observation and Science (EROS) Center'}, {'id': '5e83d1504029a554', 'fieldName': 'Publication_Date', 'dictionaryLink': '', 'value': '20060510'}, {'id': '5e83d150d638722a', 'fieldName': 'Title', 'dictionaryLink': '', 'value': 'Landsat 8-9 OLI/TIRS Collection 2'}, {'id': '5e83d1504df2037f', 'fieldName': 'Geospatial_Data_Presentation_Form', 'dictionaryLink': '', 'value': 'Remote-Sensing Image'}, {'id': '5e83d1509fc9ebd8', 'fieldName': 'Publication_Place', 'dictionaryLink': '', 'value': 'Sioux Falls, South Dakota, USA'}, {'id': '5e83d1504c2f8a3a', 'fieldName': 'Publisher', 'dictionaryLink': '', 'value': 'U.S. Geological Survey (USGS) Earth Resources Observation and Science (EROS) Center'}, {'id': '5e83d150af862c20', 'fieldName': 'Online_Linkage', 'dictionaryLink': '', 'value': 'https://doi.org/10.5066/P9OGBGM6'}, {'id': '5e83d15048ae4bd2', 'fieldName': 'Attribute_Accuracy_Report', 'dictionaryLink': '', 'value': 'The identification of features is provided by the spectral signature which is the distinct electromagnetic energy it emits, reflects, or otherwise transmits. Other signatures such as tone (lightness or darkness), texture (surface roughness or smoothness), pattern, shadow, shape, and size are just as important. Thus, through the use of Landsat data, such elements as water features, soils, and vegetation can be identified and distinguished from each other.'}, {'id': '5e83d150a409b3aa', 'fieldName': 'Logical_Consistency_Report', 'dictionaryLink': '', 'value': 'N/A'}, {'id': '5e83d150eacb699b', 'fieldName': 'Completeness_Report', 'dictionaryLink': '', 'value': 'The Landsat satellites circle the Earth on a sun-synchronous, near-polar orbit imaging the same 185 km (115 miles) ground swath every 16 days.'}, {'id': '5e83d150fa608ee1', 'fieldName': 'Horizontal_Positional_Accuracy_Report', 'dictionaryLink': '', 'value': 'L8 Level-1 systematic products meet the system requirement of 65 meters at a circular error with 90 percent confidence (CE90) horizontal accuracy.'}, {'id': '5e83d150d3ef6693', 'fieldName': 'Process_Description', 'dictionaryLink': '', 'value': 'Landsat Collection 2 Level-2 surface reflectance and surface temperature science products are generated from Collection 2 Level-1 inputs that meet the less than 76 degrees Solar Zenith Angle constraint and include the required auxiliary data inputs to generate a scientifically viable product. For more information visit https://www.usgs.gov/core-science-systems/nli/landsat/landsat-collection-2-level-2-science-products.'}, {'id': '5e83d150db9240b3', 'fieldName': 'Process_Date', 'dictionaryLink': '', 'value': '20161030'}, {'id': '5e83d150ae1d5713', 'fieldName': 'Contact_Person', 'dictionaryLink': '', 'value': 'custserv@usgs.gov'}, {'id': '5e83d1505f655037', 'fieldName': 'Contact_Organization', 'dictionaryLink': '', 'value': 'U.S. Geological Survey (USGS) Earth Resources Observation and Science (EROS) Center'}, {'id': '5e83d150b27996c0', 'fieldName': 'Contact_Position', 'dictionaryLink': '', 'value': 'Customer Service Representative'}, {'id': '5e83d150b217be8b', 'fieldName': 'Address_Type', 'dictionaryLink': '', 'value': 'Mailing and Physical Address'}, {'id': '5e83d1507c1eb2f4', 'fieldName': 'Address', 'dictionaryLink': '', 'value': 'U.S. Geological Survey (USGS) Earth Resources Observation and Science (EROS) Center 47914 252nd Street'}, {'id': '5e83d1502fb3c020', 'fieldName': 'City', 'dictionaryLink': '', 'value': 'Sioux Falls'}, {'id': '5e83d15049a2cf0c', 'fieldName': 'State_or_Province', 'dictionaryLink': '', 'value': 'SD'}, {'id': '5e83d150abd0eac0', 'fieldName': 'Postal_Code', 'dictionaryLink': '', 'value': '57198-0001'}, {'id': '5e83d150eb97584c', 'fieldName': 'Country', 'dictionaryLink': '', 'value': 'USA'}, {'id': '5e83d1504e6c1daf', 'fieldName': 'Contact_Electronic_Mail_Address', 'dictionaryLink': '', 'value': 'custserv@usgs.gov'}, {'id': '5e83d150190eea7b', 'fieldName': 'Hours_of_Service', 'dictionaryLink': '', 'value': '0800 - 1600 CT, M-F, 1400 - 2200 h GMT'}, {'id': '5e83d150e8a59b46', 'fieldName': 'Contact_Instructions', 'dictionaryLink': '', 'value': 'custserv@usgs.gov'}, {'id': '5e83d15075a89bda', 'fieldName': 'Cloud_Cover', 'dictionaryLink': '', 'value': '0.400 percent'}, {'id': '5e83d150dc152f87', 'fieldName': 'Indirect_Spatial_Reference', 'dictionaryLink': '', 'value': 'Landsat 8 collects data at 30-meter resolution (Panchromatic band 8 at 15 meters; thermal at 100 meters) '}, {'id': '5e83d1504c801e05', 'fieldName': 'Direct_Spatial_Reference_Method', 'dictionaryLink': '', 'value': 'Raster'}, {'id': '5e83d1502394df5d', 'fieldName': 'Raster_Object_Type', 'dictionaryLink': '', 'value': 'Pixel'}, {'id': '5e83d150efd88b45', 'fieldName': 'Contact_Person', 'dictionaryLink': '', 'value': 'custserv@usgs.gov'}, {'id': '5e83d15029ecf73d', 'fieldName': 'Contact_Organization', 'dictionaryLink': '', 'value': 'U.S. Geological Survey (USGS) Earth Resources Observation and Science (EROS) Center'}, {'id': '5e83d150bbbd592', 'fieldName': 'Contact_Position', 'dictionaryLink': '', 'value': 'Customer Service Representative'}, {'id': '5e83d1504f74892e', 'fieldName': 'Address_Type', 'dictionaryLink': '', 'value': 'Mailing and Physical Address'}, {'id': '5e83d1507481c1a7', 'fieldName': 'Address', 'dictionaryLink': '', 'value': 'U.S. Geological Survey (USGS) Earth Resources Observation and Science (EROS) Center 47914 252nd Street'}, {'id': '5e83d150ead9eb', 'fieldName': 'City', 'dictionaryLink': '', 'value': 'Sioux Falls'}, {'id': '5e83d150393c9b0', 'fieldName': 'State_or_Province', 'dictionaryLink': '', 'value': 'SD'}, {'id': '5e83d15032635bf3', 'fieldName': 'Postal_Code', 'dictionaryLink': '', 'value': '57198-0001'}, {'id': '5e83d15018d60364', 'fieldName': 'Country', 'dictionaryLink': '', 'value': 'USA'}, {'id': '5e83d15038ff0b8e', 'fieldName': 'Contact_Electronic_Mail_Address', 'dictionaryLink': '', 'value': 'custserv@usgs.gov'}, {'id': '5e83d1502e90d5fb', 'fieldName': 'Hours_of_Service', 'dictionaryLink': '', 'value': '0800 - 1600 CT, M-F, 1400 - 2200 h GMT'}, {'id': '5e83d150e3deba4f', 'fieldName': 'Contact_Instructions', 'dictionaryLink': '', 'value': 'custserv@usgs.gov'}, {'id': '5e83d15057a2f593', 'fieldName': 'Distribution_Liability', 'dictionaryLink': '', 'value': 'Although these data have been processed successfully on a computer system at the USGS, no warranty expressed or implied is made by the USGS regarding the use of the data on any other system, nor does the act of distribution constitute any such warranty.'}, {'id': '5e83d1508d453707', 'fieldName': 'Format_Name', 'dictionaryLink': '', 'value': 'Geographcal-Tagged Image File Format (GeoTIFF), or Joint Photographic Experts Group (JPEG)'}, {'id': '5e83d1509e135e8f', 'fieldName': 'Network_Resource_Name', 'dictionaryLink': '', 'value': 'https://earthexplorer.usgs.gov'}, {'id': '5e83d150fad338c9', 'fieldName': 'Fees', 'dictionaryLink': '', 'value': 'All Landsat data held in the USGS EROS archive are downloadable at no cost to all users.'}, {'id': '5e83d1504818953d', 'fieldName': 'Ordering_Instructions', 'dictionaryLink': '', 'value': 'You may DOWNLOAD Landsat data online using EarthExplorer at http://earthexplorer.usgs.gov '}, {'id': '5e83d150dff337aa', 'fieldName': 'Technical_Prerequisites', 'dictionaryLink': '', 'value': 'Adequate computer capability is the only technical prerequisite for viewing data in digital form.\\r\\n\\r\\n'}, {'id': '5e83d1504d3f7037', 'fieldName': 'Metadata_Date', 'dictionaryLink': '', 'value': '20161128'}, {'id': '5e83d150f665d398', 'fieldName': 'Metadata_Review_Date', 'dictionaryLink': '', 'value': 'As Needed'}, {'id': '5e83d1505b2ef387', 'fieldName': 'Contact_Person', 'dictionaryLink': '', 'value': 'custserv@usgs.gov'}, {'id': '5e83d150b3554541', 'fieldName': 'Contact_Organization', 'dictionaryLink': '', 'value': 'U.S. Geological Survey (USGS) Earth Resources Observation and Science (EROS) Center'}, {'id': '5e83d150b0d6013d', 'fieldName': 'Contact_Position', 'dictionaryLink': '', 'value': 'Customer Service Representative'}, {'id': '5e83d1505325786d', 'fieldName': 'Address_Type', 'dictionaryLink': '', 'value': 'Mailing and Physical Address'}, {'id': '5e83d15026b7cdcc', 'fieldName': 'Address', 'dictionaryLink': '', 'value': 'U.S. Geological Survey (USGS) Earth Resources Observation and Science (EROS) Center 47914 252nd Street'}, {'id': '5e83d15024e45f49', 'fieldName': 'City', 'dictionaryLink': '', 'value': 'Sioux Falls'}, {'id': '5e83d1506f8c1abc', 'fieldName': 'State_or_Province', 'dictionaryLink': '', 'value': 'SD'}, {'id': '5e83d15050beaa61', 'fieldName': 'Postal_Code', 'dictionaryLink': '', 'value': '57198-0001'}, {'id': '5e83d150c51ecdc4', 'fieldName': 'Country', 'dictionaryLink': '', 'value': 'USA'}, {'id': '5e83d150cd79a0bb', 'fieldName': 'Contact_Electronic_Mail_Address', 'dictionaryLink': '', 'value': 'custserv@usgs.gov'}, {'id': '5e83d1502f71cf2a', 'fieldName': 'Hours_of_Service', 'dictionaryLink': '', 'value': '0800 - 1600 CT, M-F, 1400 - 2200 h GMT'}, {'id': '5e83d150ee45cb35', 'fieldName': 'Contact_Instructions', 'dictionaryLink': '', 'value': 'custserv@usgs.gov'}, {'id': '5e83d150de8e5f19', 'fieldName': 'Metadata_Standard_Name', 'dictionaryLink': '', 'value': 'Content Standard for Digital Geospatial Metadata'}, {'id': '5e83d150d4d21431', 'fieldName': 'Metadata_Standard_Version', 'dictionaryLink': '', 'value': 'FGDC-STD-001-1998, Version 2'}, {'id': '5e83d15036218e60', 'fieldName': 'Metadata_Time_Convention', 'dictionaryLink': '', 'value': 'Local Time'}, {'id': '5e83d150cca78622', 'fieldName': 'Metadata_Access_Constraints', 'dictionaryLink': '', 'value': 'None'}, {'id': '5e83d15068d89b9d', 'fieldName': 'Metadata_Use_Constraints', 'dictionaryLink': '', 'value': 'None'}, {'id': '5e83d1501e4b5936', 'fieldName': 'Metadata_Security_Classification_System', 'dictionaryLink': '', 'value': 'None'}, {'id': '5e83d150d71071fd', 'fieldName': 'Metadata_Security_Classification', 'dictionaryLink': '', 'value': 'Unclassified'}, {'id': '5e83d150ca78d3df', 'fieldName': 'Metadata_Security_Handling_Description', 'dictionaryLink': '', 'value': 'None'}]",
         null,
         "2024-12-28 03:42:24-06",
         "True",
         "True",
         "False",
         "False",
         "False",
         "False",
         "False",
         "Polygon",
         "[[[3.91632, 6.17828], [3.91632, 8.27613], [5.97366, 8.27613], [5.97366, 6.17828], [3.91632, 6.17828]]]",
         "Polygon",
         "[[[3.91632, 6.54077], [5.59744, 6.17828], [5.97366, 7.91646], [4.28589, 8.27613], [3.91632, 6.54077]]]",
         "2024-12-25 00:00:00",
         "2024-12-25 00:00:00"
        ]
       ],
       "shape": {
        "columns": 21,
        "rows": 1
       }
      },
      "text/html": [
       "<div>\n",
       "<style scoped>\n",
       "    .dataframe tbody tr th:only-of-type {\n",
       "        vertical-align: middle;\n",
       "    }\n",
       "\n",
       "    .dataframe tbody tr th {\n",
       "        vertical-align: top;\n",
       "    }\n",
       "\n",
       "    .dataframe thead th {\n",
       "        text-align: right;\n",
       "    }\n",
       "</style>\n",
       "<table border=\"1\" class=\"dataframe\">\n",
       "  <thead>\n",
       "    <tr style=\"text-align: right;\">\n",
       "      <th></th>\n",
       "      <th>browse</th>\n",
       "      <th>cloudCover</th>\n",
       "      <th>entityId</th>\n",
       "      <th>displayId</th>\n",
       "      <th>orderingId</th>\n",
       "      <th>metadata</th>\n",
       "      <th>hasCustomizedMetadata</th>\n",
       "      <th>publishDate</th>\n",
       "      <th>options.bulk</th>\n",
       "      <th>options.download</th>\n",
       "      <th>...</th>\n",
       "      <th>options.secondary</th>\n",
       "      <th>selected.bulk</th>\n",
       "      <th>selected.compare</th>\n",
       "      <th>selected.order</th>\n",
       "      <th>spatialBounds.type</th>\n",
       "      <th>spatialBounds.coordinates</th>\n",
       "      <th>spatialCoverage.type</th>\n",
       "      <th>spatialCoverage.coordinates</th>\n",
       "      <th>temporalCoverage.endDate</th>\n",
       "      <th>temporalCoverage.startDate</th>\n",
       "    </tr>\n",
       "  </thead>\n",
       "  <tbody>\n",
       "    <tr>\n",
       "      <th>0</th>\n",
       "      <td>[{'id': '5fb4ba12d7ec307f', 'browseRotationEna...</td>\n",
       "      <td>0</td>\n",
       "      <td>LC81900552024360LGN00</td>\n",
       "      <td>LC08_L2SP_190055_20241225_20241228_02_T1</td>\n",
       "      <td>None</td>\n",
       "      <td>[{'id': '5e83d1508031a4a3', 'fieldName': 'ID',...</td>\n",
       "      <td>None</td>\n",
       "      <td>2024-12-28 03:42:24-06</td>\n",
       "      <td>True</td>\n",
       "      <td>True</td>\n",
       "      <td>...</td>\n",
       "      <td>False</td>\n",
       "      <td>False</td>\n",
       "      <td>False</td>\n",
       "      <td>False</td>\n",
       "      <td>Polygon</td>\n",
       "      <td>[[[3.91632, 6.17828], [3.91632, 8.27613], [5.9...</td>\n",
       "      <td>Polygon</td>\n",
       "      <td>[[[3.91632, 6.54077], [5.59744, 6.17828], [5.9...</td>\n",
       "      <td>2024-12-25 00:00:00</td>\n",
       "      <td>2024-12-25 00:00:00</td>\n",
       "    </tr>\n",
       "  </tbody>\n",
       "</table>\n",
       "<p>1 rows × 21 columns</p>\n",
       "</div>"
      ],
      "text/plain": [
       "                                              browse  cloudCover  \\\n",
       "0  [{'id': '5fb4ba12d7ec307f', 'browseRotationEna...           0   \n",
       "\n",
       "                entityId                                 displayId orderingId  \\\n",
       "0  LC81900552024360LGN00  LC08_L2SP_190055_20241225_20241228_02_T1       None   \n",
       "\n",
       "                                            metadata hasCustomizedMetadata  \\\n",
       "0  [{'id': '5e83d1508031a4a3', 'fieldName': 'ID',...                  None   \n",
       "\n",
       "              publishDate  options.bulk  options.download  ...  \\\n",
       "0  2024-12-28 03:42:24-06          True              True  ...   \n",
       "\n",
       "   options.secondary  selected.bulk  selected.compare  selected.order  \\\n",
       "0              False          False             False           False   \n",
       "\n",
       "   spatialBounds.type                          spatialBounds.coordinates  \\\n",
       "0             Polygon  [[[3.91632, 6.17828], [3.91632, 8.27613], [5.9...   \n",
       "\n",
       "  spatialCoverage.type                        spatialCoverage.coordinates  \\\n",
       "0              Polygon  [[[3.91632, 6.54077], [5.59744, 6.17828], [5.9...   \n",
       "\n",
       "  temporalCoverage.endDate temporalCoverage.startDate  \n",
       "0      2024-12-25 00:00:00        2024-12-25 00:00:00  \n",
       "\n",
       "[1 rows x 21 columns]"
      ]
     },
     "execution_count": 8,
     "metadata": {},
     "output_type": "execute_result"
    }
   ],
   "source": [
    "scene_df = landsat.scene_search(date_range)"
   ]
  },
  {
   "cell_type": "markdown",
   "id": "3a931880",
   "metadata": {},
   "source": [
    "## Request"
   ]
  },
  {
   "cell_type": "markdown",
   "id": "f6186511",
   "metadata": {},
   "source": [
    "### Filter Scenes Based on Timestamp"
   ]
  },
  {
   "cell_type": "code",
   "execution_count": null,
   "id": "fb7059ee",
   "metadata": {},
   "outputs": [],
   "source": [
    "download_payload = {\"datasetName\": \"landsat_ot_c2_l2\", \"entityIds\": scene_ids}\n",
    "downloadOptions = send_request(serviceUrl + \"download-options\", download_payload, api_key)"
   ]
  },
  {
   "cell_type": "code",
   "execution_count": null,
   "id": "70541e48",
   "metadata": {},
   "outputs": [],
   "source": [
    "endpoint = \"logout\"  \n",
    "if send_request(serviceUrl + endpoint, None, api_key) == None:        \n",
    "    print(\"\\n\\nLogged Out\\n\")\n",
    "else:\n",
    "    print(\"\\n\\nLogout Failed\\n\")"
   ]
  }
 ],
 "metadata": {
  "kernelspec": {
   "display_name": "conflict-monitoring-ntl",
   "language": "python",
   "name": "python3"
  },
  "language_info": {
   "codemirror_mode": {
    "name": "ipython",
    "version": 3
   },
   "file_extension": ".py",
   "mimetype": "text/x-python",
   "name": "python",
   "nbconvert_exporter": "python",
   "pygments_lexer": "ipython3",
   "version": "3.13.5"
  }
 },
 "nbformat": 4,
 "nbformat_minor": 5
}
