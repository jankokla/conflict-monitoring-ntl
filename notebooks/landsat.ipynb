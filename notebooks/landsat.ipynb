{
 "cells": [
  {
   "cell_type": "markdown",
   "id": "0c7601d5",
   "metadata": {},
   "source": [
    "# Landsat Exploration"
   ]
  },
  {
   "cell_type": "code",
   "execution_count": 1,
   "id": "ec0b4cb4",
   "metadata": {},
   "outputs": [],
   "source": [
    "import pandas as pd\n",
    "import geopandas as gpd\n",
    "from dotenv import load_dotenv\n",
    "from datetime import date\n",
    "\n",
    "from conflict_monitoring_ntl.satellites import Landsat\n",
    "\n",
    "import warnings\n",
    "warnings.filterwarnings(\"ignore\")"
   ]
  },
  {
   "cell_type": "code",
   "execution_count": 2,
   "id": "b3c6d748",
   "metadata": {},
   "outputs": [],
   "source": [
    "_ = load_dotenv()"
   ]
  },
  {
   "cell_type": "markdown",
   "id": "cab61ba5",
   "metadata": {},
   "source": [
    "## Setting Up"
   ]
  },
  {
   "cell_type": "code",
   "execution_count": 3,
   "id": "3487da53",
   "metadata": {},
   "outputs": [],
   "source": [
    "gdf: gpd.geodataframe.GeoDataFrame = gpd.read_file(\"../data/shapes/lagos/lagos.shp\")\n",
    "date_range = [date(2024, 12, 22), date(2024, 12, 25)]"
   ]
  },
  {
   "cell_type": "code",
   "execution_count": 6,
   "id": "68ca4f9b",
   "metadata": {},
   "outputs": [],
   "source": [
    "import os\n",
    "import requests\n",
    "\n",
    "SERVICE_URL = \"https://m2m.cr.usgs.gov/api/api/json/stable\"\n",
    "\n",
    "response = requests.post(\n",
    "    os.path.join(SERVICE_URL, \"login-token\"),\n",
    "    json={\n",
    "        \"username\": os.getenv(\"EARTHEXPLORER_USERNAME\"),\n",
    "        \"token\": os.getenv(\"EARTHEXPLORER_TOKEN\"),\n",
    "    },\n",
    ")"
   ]
  },
  {
   "cell_type": "code",
   "execution_count": null,
   "id": "5e12fe9e",
   "metadata": {},
   "outputs": [],
   "source": [
    "landsat = Landsat()\n",
    "landsat.spatial_filter.set(gdf)"
   ]
  },
  {
   "cell_type": "markdown",
   "id": "3a931880",
   "metadata": {},
   "source": [
    "## Request"
   ]
  },
  {
   "cell_type": "markdown",
   "id": "f6186511",
   "metadata": {},
   "source": [
    "### Filter Scenes Based on Timestamp"
   ]
  },
  {
   "cell_type": "code",
   "execution_count": null,
   "id": "fb7059ee",
   "metadata": {},
   "outputs": [],
   "source": [
    "download_payload = {\"datasetName\": \"landsat_ot_c2_l2\", \"entityIds\": scene_ids}\n",
    "downloadOptions = send_request(serviceUrl + \"download-options\", download_payload, api_key)"
   ]
  },
  {
   "cell_type": "code",
   "execution_count": null,
   "id": "70541e48",
   "metadata": {},
   "outputs": [],
   "source": [
    "endpoint = \"logout\"  \n",
    "if send_request(serviceUrl + endpoint, None, api_key) == None:        \n",
    "    print(\"\\n\\nLogged Out\\n\")\n",
    "else:\n",
    "    print(\"\\n\\nLogout Failed\\n\")"
   ]
  }
 ],
 "metadata": {
  "kernelspec": {
   "display_name": "conflict-monitoring-ntl",
   "language": "python",
   "name": "python3"
  },
  "language_info": {
   "codemirror_mode": {
    "name": "ipython",
    "version": 3
   },
   "file_extension": ".py",
   "mimetype": "text/x-python",
   "name": "python",
   "nbconvert_exporter": "python",
   "pygments_lexer": "ipython3",
   "version": "3.13.5"
  }
 },
 "nbformat": 4,
 "nbformat_minor": 5
}
