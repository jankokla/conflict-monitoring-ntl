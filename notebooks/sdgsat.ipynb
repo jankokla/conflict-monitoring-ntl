{
 "cells": [
  {
   "cell_type": "markdown",
   "id": "9d0eeefe",
   "metadata": {},
   "source": [
    "# SDGSat - Find Matching TIF-s"
   ]
  },
  {
   "cell_type": "code",
   "execution_count": 16,
   "id": "e48d437a",
   "metadata": {},
   "outputs": [],
   "source": [
    "import os\n",
    "import rasterio\n",
    "import geopandas as gpd\n",
    "from pathlib import Path\n",
    "from dotenv import load_dotenv\n",
    "from shapely.geometry import box\n",
    "\n",
    "from affine import Affine\n",
    "from rasterio.crs import CRS\n",
    "from rasterio.coords import BoundingBox\n",
    "from shapely.geometry.polygon import Polygon\n",
    "from geopandas.geodataframe import GeoDataFrame"
   ]
  },
  {
   "cell_type": "code",
   "execution_count": 2,
   "id": "1263f01b",
   "metadata": {},
   "outputs": [],
   "source": [
    "_ = load_dotenv()"
   ]
  },
  {
   "cell_type": "markdown",
   "id": "5e19d3c2",
   "metadata": {},
   "source": [
    "## Create a Shape File from GeoPandas DataFrame\n",
    "\n",
    "https://doc.arcgis.com/en/arcgis-online/reference/shapefiles.htm#:~:text=A%20shapefile%20is%20an%20Esri,add%20it%20to%20the%20map.\n",
    "\n",
    "https://www.ibm.com/docs/en/ias?topic=formats-shapefile-representation"
   ]
  },
  {
   "cell_type": "code",
   "execution_count": 8,
   "id": "583f3785",
   "metadata": {},
   "outputs": [],
   "source": [
    "# Nigeria, Lagos, 6.52°N, 3.37°E, 2024-12-23\n",
    "tif_path = \"../data/sdgsat/KX10_GIU_20241223_E3.08_N7.67_202400138080_L4A/KX10_GIU_20241223_E3.08_N7.67_202400138080_L4A_A_LH.tif\"\n",
    "\n",
    "with rasterio.open(tif_path) as src:\n",
    "    bounds: BoundingBox = src.bounds  # left, bottom, right, top\n",
    "    crs: CRS = src.crs\n",
    "    transform: Affine = src.transform\n",
    "\n",
    "bbox: Polygon = box(*bounds)\n",
    "gdf = gpd.GeoDataFrame({\"geometry\": [bbox]}, crs=crs)\n",
    "\n",
    "# re-project to WGS84 (lat/lon), required by blackmarblepy\n",
    "gdf = gdf.to_crs(\"EPSG:4326\")\n",
    "\n",
    "gdf.to_file(\"shapes/lagos/lagos.shp\")"
   ]
  },
  {
   "cell_type": "markdown",
   "id": "dd5184eb",
   "metadata": {},
   "source": [
    "## Finding Matching TIF-s"
   ]
  },
  {
   "cell_type": "code",
   "execution_count": null,
   "id": "60caf525",
   "metadata": {},
   "outputs": [],
   "source": [
    "gdf: GeoDataFrame = gpd.read_file(\"shapes/lagos/lagos.shp\")\n",
    "\n",
    "data_path = Path(os.path.abspath('')).parent / \"data\"\n",
    "filepaths = list(data_path.rglob('*_LH.tif'))\n",
    "\n",
    "matching_files = []\n",
    "\n",
    "for filepath in filepaths:\n",
    "    with rasterio.open(filepath) as src:\n",
    "        bounds = src.bounds\n",
    "        raster_poly = box(bounds.left, bounds.bottom, bounds.right, bounds.top)\n",
    "        if gdf.to_crs(src.crs).intersects(raster_poly).any():\n",
    "            matching_files.append(filepath)"
   ]
  },
  {
   "cell_type": "code",
   "execution_count": 15,
   "id": "5e72f473",
   "metadata": {},
   "outputs": [
    {
     "data": {
      "text/plain": [
       "[PosixPath('/Users/jan.kokla/Documents/EPFL/conflict-monitoring-ntl/data/sdgsat/KX10_GIU_20241223_E3.08_N7.67_202400138080_L4A/KX10_GIU_20241223_E3.08_N7.67_202400138080_L4A_A_LH.tif'),\n",
       " PosixPath('/Users/jan.kokla/Documents/EPFL/conflict-monitoring-ntl/data/sdgsat/KX10_GIU_20241223_E3.08_N7.67_202400138080_L4A/KX10_GIU_20241223_E3.08_N7.67_202400138080_L4A_B_LH.tif')]"
      ]
     },
     "execution_count": 15,
     "metadata": {},
     "output_type": "execute_result"
    }
   ],
   "source": [
    "matching_files"
   ]
  },
  {
   "cell_type": "code",
   "execution_count": null,
   "id": "0dfb6734",
   "metadata": {},
   "outputs": [],
   "source": []
  }
 ],
 "metadata": {
  "kernelspec": {
   "display_name": "conflict-monitoring-ntl",
   "language": "python",
   "name": "python3"
  },
  "language_info": {
   "codemirror_mode": {
    "name": "ipython",
    "version": 3
   },
   "file_extension": ".py",
   "mimetype": "text/x-python",
   "name": "python",
   "nbconvert_exporter": "python",
   "pygments_lexer": "ipython3",
   "version": "3.13.5"
  }
 },
 "nbformat": 4,
 "nbformat_minor": 5
}
